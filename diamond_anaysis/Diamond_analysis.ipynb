{
  "nbformat": 4,
  "nbformat_minor": 0,
  "metadata": {
    "colab": {
      "provenance": [],
      "toc_visible": true
    },
    "kernelspec": {
      "name": "python3",
      "display_name": "Python 3"
    },
    "language_info": {
      "name": "python"
    }
  },
  "cells": [
    {
      "cell_type": "code",
      "execution_count": null,
      "metadata": {
        "id": "yQ33hIEeHSrB"
      },
      "outputs": [],
      "source": [
        "import pandas as pd"
      ]
    },
    {
      "cell_type": "code",
      "source": [
        "df=pd.read_csv('type of the Diamond new.csv')"
      ],
      "metadata": {
        "id": "7vlfS6WbHdEj"
      },
      "execution_count": null,
      "outputs": []
    },
    {
      "cell_type": "code",
      "source": [
        "df"
      ],
      "metadata": {
        "colab": {
          "base_uri": "https://localhost:8080/",
          "height": 423
        },
        "id": "I-YMXTDkHky9",
        "outputId": "1ee0b281-035a-4d7c-a29d-c8d69855b60d"
      },
      "execution_count": null,
      "outputs": [
        {
          "output_type": "execute_result",
          "data": {
            "text/plain": [
              "             cut color clarity  carat  depth  table  price  x (Premium)  \\\n",
              "0           Fair     E     VS2   0.22   65.1   61.0    337         3.87   \n",
              "1           Fair     E     SI2   0.86   55.1   69.0   2757         6.45   \n",
              "2           Fair     F     SI2   0.96   66.3   62.0   2759         6.27   \n",
              "3           Fair     F     VS2   0.70   64.5   57.0   2762         5.57   \n",
              "4           Fair     F     VS2   0.70   65.3   55.0   2762         5.63   \n",
              "...          ...   ...     ...    ...    ...    ...    ...          ...   \n",
              "53935  Very Good     E     VS2   0.70   62.8   60.0   2755         5.59   \n",
              "53936  Very Good     D     VS1   0.70   63.1   59.0   2755         5.67   \n",
              "53937  Very Good     E     VS2   0.70   60.5   59.0   2757         5.71   \n",
              "53938  Very Good     E     VS2   0.70   61.2   59.0   2757         5.69   \n",
              "53939  Very Good     D     SI1   0.70   62.8   60.0   2757         5.66   \n",
              "\n",
              "       z (Very Good)  y (Good)  \n",
              "0               2.49      3.78  \n",
              "1               3.52      6.33  \n",
              "2               4.07      5.95  \n",
              "3               3.58      5.53  \n",
              "4               3.66      5.58  \n",
              "...              ...       ...  \n",
              "53935           3.53      5.65  \n",
              "53936           3.55      5.58  \n",
              "53937           3.47      5.76  \n",
              "53938           3.49      5.72  \n",
              "53939           3.56      5.68  \n",
              "\n",
              "[53940 rows x 10 columns]"
            ],
            "text/html": [
              "\n",
              "  <div id=\"df-708c2469-bb81-4fe0-ad15-c6685f2a3c0c\" class=\"colab-df-container\">\n",
              "    <div>\n",
              "<style scoped>\n",
              "    .dataframe tbody tr th:only-of-type {\n",
              "        vertical-align: middle;\n",
              "    }\n",
              "\n",
              "    .dataframe tbody tr th {\n",
              "        vertical-align: top;\n",
              "    }\n",
              "\n",
              "    .dataframe thead th {\n",
              "        text-align: right;\n",
              "    }\n",
              "</style>\n",
              "<table border=\"1\" class=\"dataframe\">\n",
              "  <thead>\n",
              "    <tr style=\"text-align: right;\">\n",
              "      <th></th>\n",
              "      <th>cut</th>\n",
              "      <th>color</th>\n",
              "      <th>clarity</th>\n",
              "      <th>carat</th>\n",
              "      <th>depth</th>\n",
              "      <th>table</th>\n",
              "      <th>price</th>\n",
              "      <th>x (Premium)</th>\n",
              "      <th>z (Very Good)</th>\n",
              "      <th>y (Good)</th>\n",
              "    </tr>\n",
              "  </thead>\n",
              "  <tbody>\n",
              "    <tr>\n",
              "      <th>0</th>\n",
              "      <td>Fair</td>\n",
              "      <td>E</td>\n",
              "      <td>VS2</td>\n",
              "      <td>0.22</td>\n",
              "      <td>65.1</td>\n",
              "      <td>61.0</td>\n",
              "      <td>337</td>\n",
              "      <td>3.87</td>\n",
              "      <td>2.49</td>\n",
              "      <td>3.78</td>\n",
              "    </tr>\n",
              "    <tr>\n",
              "      <th>1</th>\n",
              "      <td>Fair</td>\n",
              "      <td>E</td>\n",
              "      <td>SI2</td>\n",
              "      <td>0.86</td>\n",
              "      <td>55.1</td>\n",
              "      <td>69.0</td>\n",
              "      <td>2757</td>\n",
              "      <td>6.45</td>\n",
              "      <td>3.52</td>\n",
              "      <td>6.33</td>\n",
              "    </tr>\n",
              "    <tr>\n",
              "      <th>2</th>\n",
              "      <td>Fair</td>\n",
              "      <td>F</td>\n",
              "      <td>SI2</td>\n",
              "      <td>0.96</td>\n",
              "      <td>66.3</td>\n",
              "      <td>62.0</td>\n",
              "      <td>2759</td>\n",
              "      <td>6.27</td>\n",
              "      <td>4.07</td>\n",
              "      <td>5.95</td>\n",
              "    </tr>\n",
              "    <tr>\n",
              "      <th>3</th>\n",
              "      <td>Fair</td>\n",
              "      <td>F</td>\n",
              "      <td>VS2</td>\n",
              "      <td>0.70</td>\n",
              "      <td>64.5</td>\n",
              "      <td>57.0</td>\n",
              "      <td>2762</td>\n",
              "      <td>5.57</td>\n",
              "      <td>3.58</td>\n",
              "      <td>5.53</td>\n",
              "    </tr>\n",
              "    <tr>\n",
              "      <th>4</th>\n",
              "      <td>Fair</td>\n",
              "      <td>F</td>\n",
              "      <td>VS2</td>\n",
              "      <td>0.70</td>\n",
              "      <td>65.3</td>\n",
              "      <td>55.0</td>\n",
              "      <td>2762</td>\n",
              "      <td>5.63</td>\n",
              "      <td>3.66</td>\n",
              "      <td>5.58</td>\n",
              "    </tr>\n",
              "    <tr>\n",
              "      <th>...</th>\n",
              "      <td>...</td>\n",
              "      <td>...</td>\n",
              "      <td>...</td>\n",
              "      <td>...</td>\n",
              "      <td>...</td>\n",
              "      <td>...</td>\n",
              "      <td>...</td>\n",
              "      <td>...</td>\n",
              "      <td>...</td>\n",
              "      <td>...</td>\n",
              "    </tr>\n",
              "    <tr>\n",
              "      <th>53935</th>\n",
              "      <td>Very Good</td>\n",
              "      <td>E</td>\n",
              "      <td>VS2</td>\n",
              "      <td>0.70</td>\n",
              "      <td>62.8</td>\n",
              "      <td>60.0</td>\n",
              "      <td>2755</td>\n",
              "      <td>5.59</td>\n",
              "      <td>3.53</td>\n",
              "      <td>5.65</td>\n",
              "    </tr>\n",
              "    <tr>\n",
              "      <th>53936</th>\n",
              "      <td>Very Good</td>\n",
              "      <td>D</td>\n",
              "      <td>VS1</td>\n",
              "      <td>0.70</td>\n",
              "      <td>63.1</td>\n",
              "      <td>59.0</td>\n",
              "      <td>2755</td>\n",
              "      <td>5.67</td>\n",
              "      <td>3.55</td>\n",
              "      <td>5.58</td>\n",
              "    </tr>\n",
              "    <tr>\n",
              "      <th>53937</th>\n",
              "      <td>Very Good</td>\n",
              "      <td>E</td>\n",
              "      <td>VS2</td>\n",
              "      <td>0.70</td>\n",
              "      <td>60.5</td>\n",
              "      <td>59.0</td>\n",
              "      <td>2757</td>\n",
              "      <td>5.71</td>\n",
              "      <td>3.47</td>\n",
              "      <td>5.76</td>\n",
              "    </tr>\n",
              "    <tr>\n",
              "      <th>53938</th>\n",
              "      <td>Very Good</td>\n",
              "      <td>E</td>\n",
              "      <td>VS2</td>\n",
              "      <td>0.70</td>\n",
              "      <td>61.2</td>\n",
              "      <td>59.0</td>\n",
              "      <td>2757</td>\n",
              "      <td>5.69</td>\n",
              "      <td>3.49</td>\n",
              "      <td>5.72</td>\n",
              "    </tr>\n",
              "    <tr>\n",
              "      <th>53939</th>\n",
              "      <td>Very Good</td>\n",
              "      <td>D</td>\n",
              "      <td>SI1</td>\n",
              "      <td>0.70</td>\n",
              "      <td>62.8</td>\n",
              "      <td>60.0</td>\n",
              "      <td>2757</td>\n",
              "      <td>5.66</td>\n",
              "      <td>3.56</td>\n",
              "      <td>5.68</td>\n",
              "    </tr>\n",
              "  </tbody>\n",
              "</table>\n",
              "<p>53940 rows × 10 columns</p>\n",
              "</div>\n",
              "    <div class=\"colab-df-buttons\">\n",
              "\n",
              "  <div class=\"colab-df-container\">\n",
              "    <button class=\"colab-df-convert\" onclick=\"convertToInteractive('df-708c2469-bb81-4fe0-ad15-c6685f2a3c0c')\"\n",
              "            title=\"Convert this dataframe to an interactive table.\"\n",
              "            style=\"display:none;\">\n",
              "\n",
              "  <svg xmlns=\"http://www.w3.org/2000/svg\" height=\"24px\" viewBox=\"0 -960 960 960\">\n",
              "    <path d=\"M120-120v-720h720v720H120Zm60-500h600v-160H180v160Zm220 220h160v-160H400v160Zm0 220h160v-160H400v160ZM180-400h160v-160H180v160Zm440 0h160v-160H620v160ZM180-180h160v-160H180v160Zm440 0h160v-160H620v160Z\"/>\n",
              "  </svg>\n",
              "    </button>\n",
              "\n",
              "  <style>\n",
              "    .colab-df-container {\n",
              "      display:flex;\n",
              "      gap: 12px;\n",
              "    }\n",
              "\n",
              "    .colab-df-convert {\n",
              "      background-color: #E8F0FE;\n",
              "      border: none;\n",
              "      border-radius: 50%;\n",
              "      cursor: pointer;\n",
              "      display: none;\n",
              "      fill: #1967D2;\n",
              "      height: 32px;\n",
              "      padding: 0 0 0 0;\n",
              "      width: 32px;\n",
              "    }\n",
              "\n",
              "    .colab-df-convert:hover {\n",
              "      background-color: #E2EBFA;\n",
              "      box-shadow: 0px 1px 2px rgba(60, 64, 67, 0.3), 0px 1px 3px 1px rgba(60, 64, 67, 0.15);\n",
              "      fill: #174EA6;\n",
              "    }\n",
              "\n",
              "    .colab-df-buttons div {\n",
              "      margin-bottom: 4px;\n",
              "    }\n",
              "\n",
              "    [theme=dark] .colab-df-convert {\n",
              "      background-color: #3B4455;\n",
              "      fill: #D2E3FC;\n",
              "    }\n",
              "\n",
              "    [theme=dark] .colab-df-convert:hover {\n",
              "      background-color: #434B5C;\n",
              "      box-shadow: 0px 1px 3px 1px rgba(0, 0, 0, 0.15);\n",
              "      filter: drop-shadow(0px 1px 2px rgba(0, 0, 0, 0.3));\n",
              "      fill: #FFFFFF;\n",
              "    }\n",
              "  </style>\n",
              "\n",
              "    <script>\n",
              "      const buttonEl =\n",
              "        document.querySelector('#df-708c2469-bb81-4fe0-ad15-c6685f2a3c0c button.colab-df-convert');\n",
              "      buttonEl.style.display =\n",
              "        google.colab.kernel.accessAllowed ? 'block' : 'none';\n",
              "\n",
              "      async function convertToInteractive(key) {\n",
              "        const element = document.querySelector('#df-708c2469-bb81-4fe0-ad15-c6685f2a3c0c');\n",
              "        const dataTable =\n",
              "          await google.colab.kernel.invokeFunction('convertToInteractive',\n",
              "                                                    [key], {});\n",
              "        if (!dataTable) return;\n",
              "\n",
              "        const docLinkHtml = 'Like what you see? Visit the ' +\n",
              "          '<a target=\"_blank\" href=https://colab.research.google.com/notebooks/data_table.ipynb>data table notebook</a>'\n",
              "          + ' to learn more about interactive tables.';\n",
              "        element.innerHTML = '';\n",
              "        dataTable['output_type'] = 'display_data';\n",
              "        await google.colab.output.renderOutput(dataTable, element);\n",
              "        const docLink = document.createElement('div');\n",
              "        docLink.innerHTML = docLinkHtml;\n",
              "        element.appendChild(docLink);\n",
              "      }\n",
              "    </script>\n",
              "  </div>\n",
              "\n",
              "\n",
              "<div id=\"df-21d03186-b32c-4475-a1b8-ecfc695afa77\">\n",
              "  <button class=\"colab-df-quickchart\" onclick=\"quickchart('df-21d03186-b32c-4475-a1b8-ecfc695afa77')\"\n",
              "            title=\"Suggest charts\"\n",
              "            style=\"display:none;\">\n",
              "\n",
              "<svg xmlns=\"http://www.w3.org/2000/svg\" height=\"24px\"viewBox=\"0 0 24 24\"\n",
              "     width=\"24px\">\n",
              "    <g>\n",
              "        <path d=\"M19 3H5c-1.1 0-2 .9-2 2v14c0 1.1.9 2 2 2h14c1.1 0 2-.9 2-2V5c0-1.1-.9-2-2-2zM9 17H7v-7h2v7zm4 0h-2V7h2v10zm4 0h-2v-4h2v4z\"/>\n",
              "    </g>\n",
              "</svg>\n",
              "  </button>\n",
              "\n",
              "<style>\n",
              "  .colab-df-quickchart {\n",
              "      --bg-color: #E8F0FE;\n",
              "      --fill-color: #1967D2;\n",
              "      --hover-bg-color: #E2EBFA;\n",
              "      --hover-fill-color: #174EA6;\n",
              "      --disabled-fill-color: #AAA;\n",
              "      --disabled-bg-color: #DDD;\n",
              "  }\n",
              "\n",
              "  [theme=dark] .colab-df-quickchart {\n",
              "      --bg-color: #3B4455;\n",
              "      --fill-color: #D2E3FC;\n",
              "      --hover-bg-color: #434B5C;\n",
              "      --hover-fill-color: #FFFFFF;\n",
              "      --disabled-bg-color: #3B4455;\n",
              "      --disabled-fill-color: #666;\n",
              "  }\n",
              "\n",
              "  .colab-df-quickchart {\n",
              "    background-color: var(--bg-color);\n",
              "    border: none;\n",
              "    border-radius: 50%;\n",
              "    cursor: pointer;\n",
              "    display: none;\n",
              "    fill: var(--fill-color);\n",
              "    height: 32px;\n",
              "    padding: 0;\n",
              "    width: 32px;\n",
              "  }\n",
              "\n",
              "  .colab-df-quickchart:hover {\n",
              "    background-color: var(--hover-bg-color);\n",
              "    box-shadow: 0 1px 2px rgba(60, 64, 67, 0.3), 0 1px 3px 1px rgba(60, 64, 67, 0.15);\n",
              "    fill: var(--button-hover-fill-color);\n",
              "  }\n",
              "\n",
              "  .colab-df-quickchart-complete:disabled,\n",
              "  .colab-df-quickchart-complete:disabled:hover {\n",
              "    background-color: var(--disabled-bg-color);\n",
              "    fill: var(--disabled-fill-color);\n",
              "    box-shadow: none;\n",
              "  }\n",
              "\n",
              "  .colab-df-spinner {\n",
              "    border: 2px solid var(--fill-color);\n",
              "    border-color: transparent;\n",
              "    border-bottom-color: var(--fill-color);\n",
              "    animation:\n",
              "      spin 1s steps(1) infinite;\n",
              "  }\n",
              "\n",
              "  @keyframes spin {\n",
              "    0% {\n",
              "      border-color: transparent;\n",
              "      border-bottom-color: var(--fill-color);\n",
              "      border-left-color: var(--fill-color);\n",
              "    }\n",
              "    20% {\n",
              "      border-color: transparent;\n",
              "      border-left-color: var(--fill-color);\n",
              "      border-top-color: var(--fill-color);\n",
              "    }\n",
              "    30% {\n",
              "      border-color: transparent;\n",
              "      border-left-color: var(--fill-color);\n",
              "      border-top-color: var(--fill-color);\n",
              "      border-right-color: var(--fill-color);\n",
              "    }\n",
              "    40% {\n",
              "      border-color: transparent;\n",
              "      border-right-color: var(--fill-color);\n",
              "      border-top-color: var(--fill-color);\n",
              "    }\n",
              "    60% {\n",
              "      border-color: transparent;\n",
              "      border-right-color: var(--fill-color);\n",
              "    }\n",
              "    80% {\n",
              "      border-color: transparent;\n",
              "      border-right-color: var(--fill-color);\n",
              "      border-bottom-color: var(--fill-color);\n",
              "    }\n",
              "    90% {\n",
              "      border-color: transparent;\n",
              "      border-bottom-color: var(--fill-color);\n",
              "    }\n",
              "  }\n",
              "</style>\n",
              "\n",
              "  <script>\n",
              "    async function quickchart(key) {\n",
              "      const quickchartButtonEl =\n",
              "        document.querySelector('#' + key + ' button');\n",
              "      quickchartButtonEl.disabled = true;  // To prevent multiple clicks.\n",
              "      quickchartButtonEl.classList.add('colab-df-spinner');\n",
              "      try {\n",
              "        const charts = await google.colab.kernel.invokeFunction(\n",
              "            'suggestCharts', [key], {});\n",
              "      } catch (error) {\n",
              "        console.error('Error during call to suggestCharts:', error);\n",
              "      }\n",
              "      quickchartButtonEl.classList.remove('colab-df-spinner');\n",
              "      quickchartButtonEl.classList.add('colab-df-quickchart-complete');\n",
              "    }\n",
              "    (() => {\n",
              "      let quickchartButtonEl =\n",
              "        document.querySelector('#df-21d03186-b32c-4475-a1b8-ecfc695afa77 button');\n",
              "      quickchartButtonEl.style.display =\n",
              "        google.colab.kernel.accessAllowed ? 'block' : 'none';\n",
              "    })();\n",
              "  </script>\n",
              "</div>\n",
              "    </div>\n",
              "  </div>\n"
            ],
            "application/vnd.google.colaboratory.intrinsic+json": {
              "type": "dataframe",
              "variable_name": "df",
              "summary": "{\n  \"name\": \"df\",\n  \"rows\": 53940,\n  \"fields\": [\n    {\n      \"column\": \"cut\",\n      \"properties\": {\n        \"dtype\": \"category\",\n        \"num_unique_values\": 5,\n        \"samples\": [\n          \"Good\",\n          \"Very Good\",\n          \"Ideal\"\n        ],\n        \"semantic_type\": \"\",\n        \"description\": \"\"\n      }\n    },\n    {\n      \"column\": \"color\",\n      \"properties\": {\n        \"dtype\": \"category\",\n        \"num_unique_values\": 7,\n        \"samples\": [\n          \"E\",\n          \"F\",\n          \"I\"\n        ],\n        \"semantic_type\": \"\",\n        \"description\": \"\"\n      }\n    },\n    {\n      \"column\": \"clarity\",\n      \"properties\": {\n        \"dtype\": \"category\",\n        \"num_unique_values\": 8,\n        \"samples\": [\n          \"SI2\",\n          \"VS1\",\n          \"VS2\"\n        ],\n        \"semantic_type\": \"\",\n        \"description\": \"\"\n      }\n    },\n    {\n      \"column\": \"carat\",\n      \"properties\": {\n        \"dtype\": \"number\",\n        \"std\": 0.47401124440540066,\n        \"min\": 0.2,\n        \"max\": 5.01,\n        \"num_unique_values\": 273,\n        \"samples\": [\n          1.06,\n          1.56,\n          2.15\n        ],\n        \"semantic_type\": \"\",\n        \"description\": \"\"\n      }\n    },\n    {\n      \"column\": \"depth\",\n      \"properties\": {\n        \"dtype\": \"number\",\n        \"std\": 1.4326213188338766,\n        \"min\": 43.0,\n        \"max\": 79.0,\n        \"num_unique_values\": 184,\n        \"samples\": [\n          65.0,\n          66.0,\n          70.8\n        ],\n        \"semantic_type\": \"\",\n        \"description\": \"\"\n      }\n    },\n    {\n      \"column\": \"table\",\n      \"properties\": {\n        \"dtype\": \"number\",\n        \"std\": 2.234490562820886,\n        \"min\": 43.0,\n        \"max\": 95.0,\n        \"num_unique_values\": 127,\n        \"samples\": [\n          49.0,\n          43.0,\n          59.2\n        ],\n        \"semantic_type\": \"\",\n        \"description\": \"\"\n      }\n    },\n    {\n      \"column\": \"price\",\n      \"properties\": {\n        \"dtype\": \"number\",\n        \"std\": 3989,\n        \"min\": 326,\n        \"max\": 18823,\n        \"num_unique_values\": 11602,\n        \"samples\": [\n          4794,\n          13085,\n          11491\n        ],\n        \"semantic_type\": \"\",\n        \"description\": \"\"\n      }\n    },\n    {\n      \"column\": \"x (Premium)\",\n      \"properties\": {\n        \"dtype\": \"number\",\n        \"std\": 1.1217607467924866,\n        \"min\": 0.0,\n        \"max\": 10.74,\n        \"num_unique_values\": 554,\n        \"samples\": [\n          5.72,\n          5.87,\n          8.36\n        ],\n        \"semantic_type\": \"\",\n        \"description\": \"\"\n      }\n    },\n    {\n      \"column\": \"z (Very Good)\",\n      \"properties\": {\n        \"dtype\": \"number\",\n        \"std\": 0.7056988469499983,\n        \"min\": 0.0,\n        \"max\": 31.8,\n        \"num_unique_values\": 375,\n        \"samples\": [\n          5.28,\n          3.37,\n          3.16\n        ],\n        \"semantic_type\": \"\",\n        \"description\": \"\"\n      }\n    },\n    {\n      \"column\": \"y (Good)\",\n      \"properties\": {\n        \"dtype\": \"number\",\n        \"std\": 1.1421346741235507,\n        \"min\": 0.0,\n        \"max\": 58.9,\n        \"num_unique_values\": 552,\n        \"samples\": [\n          3.81,\n          6.69,\n          6.45\n        ],\n        \"semantic_type\": \"\",\n        \"description\": \"\"\n      }\n    }\n  ]\n}"
            }
          },
          "metadata": {},
          "execution_count": 3
        }
      ]
    },
    {
      "cell_type": "markdown",
      "source": [
        "Признаки:\n",
        "1. cut - тип огранки\n",
        "2. color - цвет\n",
        "3. clarity - чистота\n",
        "4. carat - карат, вес\n",
        "5. depth - глубина\n",
        "6. table - плоская грань вверху брилианта\n",
        "7. price - цена в $\n",
        "8. x - ширина\n",
        "9. y - длина\n",
        "10. z - высота"
      ],
      "metadata": {
        "id": "VZv_7aNwHq1n"
      }
    },
    {
      "cell_type": "markdown",
      "source": [
        "#1. Предварительный анализ"
      ],
      "metadata": {
        "id": "BXt8CywzJ1WC"
      }
    },
    {
      "cell_type": "code",
      "source": [
        "df.info()"
      ],
      "metadata": {
        "colab": {
          "base_uri": "https://localhost:8080/"
        },
        "id": "PYMpEzNWJzq-",
        "outputId": "0f9a0e98-fc7f-470e-df11-50bf88cb9bcb"
      },
      "execution_count": null,
      "outputs": [
        {
          "output_type": "stream",
          "name": "stdout",
          "text": [
            "<class 'pandas.core.frame.DataFrame'>\n",
            "RangeIndex: 53940 entries, 0 to 53939\n",
            "Data columns (total 10 columns):\n",
            " #   Column         Non-Null Count  Dtype  \n",
            "---  ------         --------------  -----  \n",
            " 0   cut            53940 non-null  object \n",
            " 1   color          53940 non-null  object \n",
            " 2   clarity        53940 non-null  object \n",
            " 3   carat          53940 non-null  float64\n",
            " 4   depth          53940 non-null  float64\n",
            " 5   table          53940 non-null  float64\n",
            " 6   price          53940 non-null  int64  \n",
            " 7   x (Premium)    53940 non-null  float64\n",
            " 8   z (Very Good)  53940 non-null  float64\n",
            " 9   y (Good)       53940 non-null  float64\n",
            "dtypes: float64(6), int64(1), object(3)\n",
            "memory usage: 4.1+ MB\n"
          ]
        }
      ]
    },
    {
      "cell_type": "code",
      "source": [
        "from matplotlib import pyplot as plt"
      ],
      "metadata": {
        "id": "DtQd9m-tHpi7"
      },
      "execution_count": null,
      "outputs": []
    },
    {
      "cell_type": "code",
      "source": [
        "cut_v=df['cut'].value_counts()\n",
        "plt.pie(cut_v.values, labels=cut_v.index,autopct='%1.1f%%')\n",
        "plt.title('Доли алмазов различной огранки')\n",
        "plt.show()"
      ],
      "metadata": {
        "colab": {
          "base_uri": "https://localhost:8080/",
          "height": 428
        },
        "id": "rAXZ-Z2pKiEF",
        "outputId": "4e0d159b-c986-4f23-d4f2-6dabb16bab46"
      },
      "execution_count": null,
      "outputs": [
        {
          "output_type": "display_data",
          "data": {
            "text/plain": [
              "<Figure size 640x480 with 1 Axes>"
            ],
            "image/png": "[encoded data removed]"
          },
          "metadata": {}
        }
      ]
    },
    {
      "cell_type": "code",
      "source": [
        "color_v=df['color'].value_counts()\n",
        "plt.pie(color_v.values, labels=color_v.index,autopct='%1.1f%%')\n",
        "plt.title('Доли алмазов различного цвета')\n",
        "plt.show()"
      ],
      "metadata": {
        "colab": {
          "base_uri": "https://localhost:8080/",
          "height": 428
        },
        "id": "qeCQlBMmM3bG",
        "outputId": "08f2ee99-e07e-411f-e45e-046bece60cb2"
      },
      "execution_count": null,
      "outputs": [
        {
          "output_type": "display_data",
          "data": {
            "text/plain": [
              "<Figure size 640x480 with 1 Axes>"
            ],
            "image/png": "[encoded data removed]"
          },
          "metadata": {}
        }
      ]
    },
    {
      "cell_type": "code",
      "source": [
        "clarity_v=df['clarity'].value_counts()[::-1]\n",
        "plt.barh(clarity_v.index, clarity_v.values)\n",
        "plt.title('Доли алмазов различной чистоты')\n",
        "plt.show()"
      ],
      "metadata": {
        "colab": {
          "base_uri": "https://localhost:8080/",
          "height": 452
        },
        "id": "AVj1ysH9Ng9P",
        "outputId": "c80a3d64-f030-4148-b103-88a20a2e8124"
      },
      "execution_count": null,
      "outputs": [
        {
          "output_type": "display_data",
          "data": {
            "text/plain": [
              "<Figure size 640x480 with 1 Axes>"
            ],
            "image/png": "[encoded data removed]"
          },
          "metadata": {}
        }
      ]
    },
    {
      "cell_type": "code",
      "source": [
        "import scipy.stats as stats"
      ],
      "metadata": {
        "id": "PDviY72XOU5i"
      },
      "execution_count": null,
      "outputs": []
    },
    {
      "cell_type": "code",
      "source": [
        "cols=['carat','depth','table','price']"
      ],
      "metadata": {
        "id": "_VeQ59zoPYsO"
      },
      "execution_count": null,
      "outputs": []
    },
    {
      "cell_type": "code",
      "source": [
        "for i in cols:\n",
        "  print(i, stats.normaltest(df[i]))"
      ],
      "metadata": {
        "colab": {
          "base_uri": "https://localhost:8080/"
        },
        "id": "lFXE1PWdSZuP",
        "outputId": "cd12ec0a-9fe5-46ca-dcf0-b183898327f1"
      },
      "execution_count": null,
      "outputs": [
        {
          "output_type": "stream",
          "name": "stdout",
          "text": [
            "carat NormaltestResult(statistic=8926.737827502262, pvalue=0.0)\n",
            "depth NormaltestResult(statistic=6613.70177994449, pvalue=0.0)\n",
            "table NormaltestResult(statistic=8034.751738354142, pvalue=0.0)\n",
            "price NormaltestResult(statistic=15096.649759774145, pvalue=0.0)\n"
          ]
        }
      ]
    },
    {
      "cell_type": "markdown",
      "source": [
        "По критерию Д'Агостино распределения признаков carat, depth, table, price не вляются нормальными"
      ],
      "metadata": {
        "id": "O6YQl1x1SncR"
      }
    },
    {
      "cell_type": "markdown",
      "source": [
        "#2. Сравнение групп\n",
        "Так как распределения не являются нормальными, используются непараметричекие критерии сравнения групп"
      ],
      "metadata": {
        "id": "fbAOXJkkTWSO"
      }
    },
    {
      "cell_type": "code",
      "source": [
        "df.groupby('cut')[['price']].mean()"
      ],
      "metadata": {
        "colab": {
          "base_uri": "https://localhost:8080/",
          "height": 237
        },
        "id": "p4DbM99QUZLZ",
        "outputId": "d20d591c-9d72-4982-bbb8-d60fcc8933d5"
      },
      "execution_count": null,
      "outputs": [
        {
          "output_type": "execute_result",
          "data": {
            "text/plain": [
              "                 price\n",
              "cut                   \n",
              "Fair       4358.757764\n",
              "Good       3928.864452\n",
              "Ideal      3457.541970\n",
              "Premium    4584.257704\n",
              "Very Good  3981.759891"
            ],
            "text/html": [
              "\n",
              "  <div id=\"df-89c8176b-693a-4582-94b6-dcaf5033a667\" class=\"colab-df-container\">\n",
              "    <div>\n",
              "<style scoped>\n",
              "    .dataframe tbody tr th:only-of-type {\n",
              "        vertical-align: middle;\n",
              "    }\n",
              "\n",
              "    .dataframe tbody tr th {\n",
              "        vertical-align: top;\n",
              "    }\n",
              "\n",
              "    .dataframe thead th {\n",
              "        text-align: right;\n",
              "    }\n",
              "</style>\n",
              "<table border=\"1\" class=\"dataframe\">\n",
              "  <thead>\n",
              "    <tr style=\"text-align: right;\">\n",
              "      <th></th>\n",
              "      <th>price</th>\n",
              "    </tr>\n",
              "    <tr>\n",
              "      <th>cut</th>\n",
              "      <th></th>\n",
              "    </tr>\n",
              "  </thead>\n",
              "  <tbody>\n",
              "    <tr>\n",
              "      <th>Fair</th>\n",
              "      <td>4358.757764</td>\n",
              "    </tr>\n",
              "    <tr>\n",
              "      <th>Good</th>\n",
              "      <td>3928.864452</td>\n",
              "    </tr>\n",
              "    <tr>\n",
              "      <th>Ideal</th>\n",
              "      <td>3457.541970</td>\n",
              "    </tr>\n",
              "    <tr>\n",
              "      <th>Premium</th>\n",
              "      <td>4584.257704</td>\n",
              "    </tr>\n",
              "    <tr>\n",
              "      <th>Very Good</th>\n",
              "      <td>3981.759891</td>\n",
              "    </tr>\n",
              "  </tbody>\n",
              "</table>\n",
              "</div>\n",
              "    <div class=\"colab-df-buttons\">\n",
              "\n",
              "  <div class=\"colab-df-container\">\n",
              "    <button class=\"colab-df-convert\" onclick=\"convertToInteractive('df-89c8176b-693a-4582-94b6-dcaf5033a667')\"\n",
              "            title=\"Convert this dataframe to an interactive table.\"\n",
              "            style=\"display:none;\">\n",
              "\n",
              "  <svg xmlns=\"http://www.w3.org/2000/svg\" height=\"24px\" viewBox=\"0 -960 960 960\">\n",
              "    <path d=\"M120-120v-720h720v720H120Zm60-500h600v-160H180v160Zm220 220h160v-160H400v160Zm0 220h160v-160H400v160ZM180-400h160v-160H180v160Zm440 0h160v-160H620v160ZM180-180h160v-160H180v160Zm440 0h160v-160H620v160Z\"/>\n",
              "  </svg>\n",
              "    </button>\n",
              "\n",
              "  <style>\n",
              "    .colab-df-container {\n",
              "      display:flex;\n",
              "      gap: 12px;\n",
              "    }\n",
              "\n",
              "    .colab-df-convert {\n",
              "      background-color: #E8F0FE;\n",
              "      border: none;\n",
              "      border-radius: 50%;\n",
              "      cursor: pointer;\n",
              "      display: none;\n",
              "      fill: #1967D2;\n",
              "      height: 32px;\n",
              "      padding: 0 0 0 0;\n",
              "      width: 32px;\n",
              "    }\n",
              "\n",
              "    .colab-df-convert:hover {\n",
              "      background-color: #E2EBFA;\n",
              "      box-shadow: 0px 1px 2px rgba(60, 64, 67, 0.3), 0px 1px 3px 1px rgba(60, 64, 67, 0.15);\n",
              "      fill: #174EA6;\n",
              "    }\n",
              "\n",
              "    .colab-df-buttons div {\n",
              "      margin-bottom: 4px;\n",
              "    }\n",
              "\n",
              "    [theme=dark] .colab-df-convert {\n",
              "      background-color: #3B4455;\n",
              "      fill: #D2E3FC;\n",
              "    }\n",
              "\n",
              "    [theme=dark] .colab-df-convert:hover {\n",
              "      background-color: #434B5C;\n",
              "      box-shadow: 0px 1px 3px 1px rgba(0, 0, 0, 0.15);\n",
              "      filter: drop-shadow(0px 1px 2px rgba(0, 0, 0, 0.3));\n",
              "      fill: #FFFFFF;\n",
              "    }\n",
              "  </style>\n",
              "\n",
              "    <script>\n",
              "      const buttonEl =\n",
              "        document.querySelector('#df-89c8176b-693a-4582-94b6-dcaf5033a667 button.colab-df-convert');\n",
              "      buttonEl.style.display =\n",
              "        google.colab.kernel.accessAllowed ? 'block' : 'none';\n",
              "\n",
              "      async function convertToInteractive(key) {\n",
              "        const element = document.querySelector('#df-89c8176b-693a-4582-94b6-dcaf5033a667');\n",
              "        const dataTable =\n",
              "          await google.colab.kernel.invokeFunction('convertToInteractive',\n",
              "                                                    [key], {});\n",
              "        if (!dataTable) return;\n",
              "\n",
              "        const docLinkHtml = 'Like what you see? Visit the ' +\n",
              "          '<a target=\"_blank\" href=https://colab.research.google.com/notebooks/data_table.ipynb>data table notebook</a>'\n",
              "          + ' to learn more about interactive tables.';\n",
              "        element.innerHTML = '';\n",
              "        dataTable['output_type'] = 'display_data';\n",
              "        await google.colab.output.renderOutput(dataTable, element);\n",
              "        const docLink = document.createElement('div');\n",
              "        docLink.innerHTML = docLinkHtml;\n",
              "        element.appendChild(docLink);\n",
              "      }\n",
              "    </script>\n",
              "  </div>\n",
              "\n",
              "\n",
              "<div id=\"df-d74b2dba-4c09-4465-bfe2-19dd99b57147\">\n",
              "  <button class=\"colab-df-quickchart\" onclick=\"quickchart('df-d74b2dba-4c09-4465-bfe2-19dd99b57147')\"\n",
              "            title=\"Suggest charts\"\n",
              "            style=\"display:none;\">\n",
              "\n",
              "<svg xmlns=\"http://www.w3.org/2000/svg\" height=\"24px\"viewBox=\"0 0 24 24\"\n",
              "     width=\"24px\">\n",
              "    <g>\n",
              "        <path d=\"M19 3H5c-1.1 0-2 .9-2 2v14c0 1.1.9 2 2 2h14c1.1 0 2-.9 2-2V5c0-1.1-.9-2-2-2zM9 17H7v-7h2v7zm4 0h-2V7h2v10zm4 0h-2v-4h2v4z\"/>\n",
              "    </g>\n",
              "</svg>\n",
              "  </button>\n",
              "\n",
              "<style>\n",
              "  .colab-df-quickchart {\n",
              "      --bg-color: #E8F0FE;\n",
              "      --fill-color: #1967D2;\n",
              "      --hover-bg-color: #E2EBFA;\n",
              "      --hover-fill-color: #174EA6;\n",
              "      --disabled-fill-color: #AAA;\n",
              "      --disabled-bg-color: #DDD;\n",
              "  }\n",
              "\n",
              "  [theme=dark] .colab-df-quickchart {\n",
              "      --bg-color: #3B4455;\n",
              "      --fill-color: #D2E3FC;\n",
              "      --hover-bg-color: #434B5C;\n",
              "      --hover-fill-color: #FFFFFF;\n",
              "      --disabled-bg-color: #3B4455;\n",
              "      --disabled-fill-color: #666;\n",
              "  }\n",
              "\n",
              "  .colab-df-quickchart {\n",
              "    background-color: var(--bg-color);\n",
              "    border: none;\n",
              "    border-radius: 50%;\n",
              "    cursor: pointer;\n",
              "    display: none;\n",
              "    fill: var(--fill-color);\n",
              "    height: 32px;\n",
              "    padding: 0;\n",
              "    width: 32px;\n",
              "  }\n",
              "\n",
              "  .colab-df-quickchart:hover {\n",
              "    background-color: var(--hover-bg-color);\n",
              "    box-shadow: 0 1px 2px rgba(60, 64, 67, 0.3), 0 1px 3px 1px rgba(60, 64, 67, 0.15);\n",
              "    fill: var(--button-hover-fill-color);\n",
              "  }\n",
              "\n",
              "  .colab-df-quickchart-complete:disabled,\n",
              "  .colab-df-quickchart-complete:disabled:hover {\n",
              "    background-color: var(--disabled-bg-color);\n",
              "    fill: var(--disabled-fill-color);\n",
              "    box-shadow: none;\n",
              "  }\n",
              "\n",
              "  .colab-df-spinner {\n",
              "    border: 2px solid var(--fill-color);\n",
              "    border-color: transparent;\n",
              "    border-bottom-color: var(--fill-color);\n",
              "    animation:\n",
              "      spin 1s steps(1) infinite;\n",
              "  }\n",
              "\n",
              "  @keyframes spin {\n",
              "    0% {\n",
              "      border-color: transparent;\n",
              "      border-bottom-color: var(--fill-color);\n",
              "      border-left-color: var(--fill-color);\n",
              "    }\n",
              "    20% {\n",
              "      border-color: transparent;\n",
              "      border-left-color: var(--fill-color);\n",
              "      border-top-color: var(--fill-color);\n",
              "    }\n",
              "    30% {\n",
              "      border-color: transparent;\n",
              "      border-left-color: var(--fill-color);\n",
              "      border-top-color: var(--fill-color);\n",
              "      border-right-color: var(--fill-color);\n",
              "    }\n",
              "    40% {\n",
              "      border-color: transparent;\n",
              "      border-right-color: var(--fill-color);\n",
              "      border-top-color: var(--fill-color);\n",
              "    }\n",
              "    60% {\n",
              "      border-color: transparent;\n",
              "      border-right-color: var(--fill-color);\n",
              "    }\n",
              "    80% {\n",
              "      border-color: transparent;\n",
              "      border-right-color: var(--fill-color);\n",
              "      border-bottom-color: var(--fill-color);\n",
              "    }\n",
              "    90% {\n",
              "      border-color: transparent;\n",
              "      border-bottom-color: var(--fill-color);\n",
              "    }\n",
              "  }\n",
              "</style>\n",
              "\n",
              "  <script>\n",
              "    async function quickchart(key) {\n",
              "      const quickchartButtonEl =\n",
              "        document.querySelector('#' + key + ' button');\n",
              "      quickchartButtonEl.disabled = true;  // To prevent multiple clicks.\n",
              "      quickchartButtonEl.classList.add('colab-df-spinner');\n",
              "      try {\n",
              "        const charts = await google.colab.kernel.invokeFunction(\n",
              "            'suggestCharts', [key], {});\n",
              "      } catch (error) {\n",
              "        console.error('Error during call to suggestCharts:', error);\n",
              "      }\n",
              "      quickchartButtonEl.classList.remove('colab-df-spinner');\n",
              "      quickchartButtonEl.classList.add('colab-df-quickchart-complete');\n",
              "    }\n",
              "    (() => {\n",
              "      let quickchartButtonEl =\n",
              "        document.querySelector('#df-d74b2dba-4c09-4465-bfe2-19dd99b57147 button');\n",
              "      quickchartButtonEl.style.display =\n",
              "        google.colab.kernel.accessAllowed ? 'block' : 'none';\n",
              "    })();\n",
              "  </script>\n",
              "</div>\n",
              "    </div>\n",
              "  </div>\n"
            ],
            "application/vnd.google.colaboratory.intrinsic+json": {
              "type": "dataframe",
              "summary": "{\n  \"name\": \"df\",\n  \"rows\": 5,\n  \"fields\": [\n    {\n      \"column\": \"cut\",\n      \"properties\": {\n        \"dtype\": \"string\",\n        \"num_unique_values\": 5,\n        \"samples\": [\n          \"Good\",\n          \"Very Good\",\n          \"Ideal\"\n        ],\n        \"semantic_type\": \"\",\n        \"description\": \"\"\n      }\n    },\n    {\n      \"column\": \"price\",\n      \"properties\": {\n        \"dtype\": \"number\",\n        \"std\": 433.1140323265358,\n        \"min\": 3457.541970210199,\n        \"max\": 4584.2577042999055,\n        \"num_unique_values\": 5,\n        \"samples\": [\n          3928.864451691806,\n          3981.7598907465654,\n          3457.541970210199\n        ],\n        \"semantic_type\": \"\",\n        \"description\": \"\"\n      }\n    }\n  ]\n}"
            }
          },
          "metadata": {},
          "execution_count": 34
        }
      ]
    },
    {
      "cell_type": "code",
      "source": [
        "import seaborn as sns"
      ],
      "metadata": {
        "id": "9kyxdN2nVDgC"
      },
      "execution_count": null,
      "outputs": []
    },
    {
      "cell_type": "code",
      "source": [
        "sns.boxplot(data=df, x='cut', y='price', showmeans=True)\n",
        "plt.title('Распределения цены по вариациям огранки')\n",
        "plt.show()"
      ],
      "metadata": {
        "colab": {
          "base_uri": "https://localhost:8080/",
          "height": 472
        },
        "id": "agtk0lG1TRvD",
        "outputId": "001bb29f-273e-4274-c890-b819befcd3fc"
      },
      "execution_count": null,
      "outputs": [
        {
          "output_type": "display_data",
          "data": {
            "text/plain": [
              "<Figure size 640x480 with 1 Axes>"
            ],
            "image/png": "[encoded data removed]"
          },
          "metadata": {}
        }
      ]
    },
    {
      "cell_type": "markdown",
      "source": [
        "Довольно много выбросов по цене, нужно обработать эти выбросы."
      ],
      "metadata": {
        "id": "DHVFWQD_d7OS"
      }
    },
    {
      "cell_type": "code",
      "source": [
        "df['price'].describe()"
      ],
      "metadata": {
        "colab": {
          "base_uri": "https://localhost:8080/",
          "height": 335
        },
        "id": "D13-VJFHb3Vk",
        "outputId": "ea8dd847-7dd6-43cd-c449-f3b971f0dda8"
      },
      "execution_count": null,
      "outputs": [
        {
          "output_type": "execute_result",
          "data": {
            "text/plain": [
              "count    53940.000000\n",
              "mean      3932.799722\n",
              "std       3989.439738\n",
              "min        326.000000\n",
              "25%        950.000000\n",
              "50%       2401.000000\n",
              "75%       5324.250000\n",
              "max      18823.000000\n",
              "Name: price, dtype: float64"
            ],
            "text/html": [
              "<div>\n",
              "<style scoped>\n",
              "    .dataframe tbody tr th:only-of-type {\n",
              "        vertical-align: middle;\n",
              "    }\n",
              "\n",
              "    .dataframe tbody tr th {\n",
              "        vertical-align: top;\n",
              "    }\n",
              "\n",
              "    .dataframe thead th {\n",
              "        text-align: right;\n",
              "    }\n",
              "</style>\n",
              "<table border=\"1\" class=\"dataframe\">\n",
              "  <thead>\n",
              "    <tr style=\"text-align: right;\">\n",
              "      <th></th>\n",
              "      <th>price</th>\n",
              "    </tr>\n",
              "  </thead>\n",
              "  <tbody>\n",
              "    <tr>\n",
              "      <th>count</th>\n",
              "      <td>53940.000000</td>\n",
              "    </tr>\n",
              "    <tr>\n",
              "      <th>mean</th>\n",
              "      <td>3932.799722</td>\n",
              "    </tr>\n",
              "    <tr>\n",
              "      <th>std</th>\n",
              "      <td>3989.439738</td>\n",
              "    </tr>\n",
              "    <tr>\n",
              "      <th>min</th>\n",
              "      <td>326.000000</td>\n",
              "    </tr>\n",
              "    <tr>\n",
              "      <th>25%</th>\n",
              "      <td>950.000000</td>\n",
              "    </tr>\n",
              "    <tr>\n",
              "      <th>50%</th>\n",
              "      <td>2401.000000</td>\n",
              "    </tr>\n",
              "    <tr>\n",
              "      <th>75%</th>\n",
              "      <td>5324.250000</td>\n",
              "    </tr>\n",
              "    <tr>\n",
              "      <th>max</th>\n",
              "      <td>18823.000000</td>\n",
              "    </tr>\n",
              "  </tbody>\n",
              "</table>\n",
              "</div><br><label><b>dtype:</b> float64</label>"
            ]
          },
          "metadata": {},
          "execution_count": 46
        }
      ]
    },
    {
      "cell_type": "code",
      "source": [
        "p_89=df['price'].quantile(q=0.89)\n",
        "p_89"
      ],
      "metadata": {
        "colab": {
          "base_uri": "https://localhost:8080/"
        },
        "id": "XNkvOcWncm-2",
        "outputId": "58a17591-251f-492b-f35c-927c7cc77204"
      },
      "execution_count": null,
      "outputs": [
        {
          "output_type": "execute_result",
          "data": {
            "text/plain": [
              "9314.0"
            ]
          },
          "metadata": {},
          "execution_count": 99
        }
      ]
    },
    {
      "cell_type": "code",
      "source": [
        "clear_price=df[df['price']<=p_89]['price']"
      ],
      "metadata": {
        "id": "KWmggXkbc3sm"
      },
      "execution_count": null,
      "outputs": []
    },
    {
      "cell_type": "code",
      "source": [
        "plt.boxplot(clear_price)\n",
        "plt.show()"
      ],
      "metadata": {
        "colab": {
          "base_uri": "https://localhost:8080/",
          "height": 430
        },
        "id": "bO6A01Msdfka",
        "outputId": "4a9bcc50-a9d4-4aaf-dce7-c7a42e9f8a7a"
      },
      "execution_count": null,
      "outputs": [
        {
          "output_type": "display_data",
          "data": {
            "text/plain": [
              "<Figure size 640x480 with 1 Axes>"
            ],
            "image/png": "[encoded data removed]"
          },
          "metadata": {}
        }
      ]
    },
    {
      "cell_type": "code",
      "source": [
        "clear_df=df[df['price']<=p_89]"
      ],
      "metadata": {
        "id": "BWLUCI6eeMIK"
      },
      "execution_count": null,
      "outputs": []
    },
    {
      "cell_type": "code",
      "source": [
        "sns.boxplot(data=clear_df, x='cut', y='price', showmeans=True)\n",
        "plt.title('Распределения цены по вариациям огранки')\n",
        "plt.show()"
      ],
      "metadata": {
        "colab": {
          "base_uri": "https://localhost:8080/",
          "height": 472
        },
        "id": "R9htZv7qeZyI",
        "outputId": "744b1ece-3b5e-4014-cbd3-128dfa8f6bd5"
      },
      "execution_count": null,
      "outputs": [
        {
          "output_type": "display_data",
          "data": {
            "text/plain": [
              "<Figure size 640x480 with 1 Axes>"
            ],
            "image/png": "[encoded data removed]"
          },
          "metadata": {}
        }
      ]
    },
    {
      "cell_type": "markdown",
      "source": [
        "Проверим с помощью критерия Краскела-Уоллиса, есть ли зависисмость между типом огранки и ценой.\n",
        "\n",
        "Рассмотрим датасеты с выбросами и очищенный."
      ],
      "metadata": {
        "id": "l2OV7jcxgw4j"
      }
    },
    {
      "cell_type": "code",
      "source": [
        "stats.kruskal(df[df['cut']=='Fair']['price'],df[df['cut']=='Good']['price'],df[df['cut']=='Ideal']['price'],\n",
        "              df[df['cut']=='Premium']['price'],df[df['cut']=='Very Good']['price'])"
      ],
      "metadata": {
        "colab": {
          "base_uri": "https://localhost:8080/"
        },
        "id": "pJBjFfSjfLLf",
        "outputId": "83e40635-0b91-42b0-eb8b-8b01ba2d6178"
      },
      "execution_count": null,
      "outputs": [
        {
          "output_type": "execute_result",
          "data": {
            "text/plain": [
              "KruskalResult(statistic=978.6208219359503, pvalue=1.533414952159139e-210)"
            ]
          },
          "metadata": {},
          "execution_count": 108
        }
      ]
    },
    {
      "cell_type": "code",
      "source": [
        "stats.kruskal(clear_df[clear_df['cut']=='Fair']['price'],clear_df[clear_df['cut']=='Good']['price'],clear_df[clear_df['cut']=='Ideal']['price'],\n",
        "              clear_df[clear_df['cut']=='Premium']['price'],clear_df[clear_df['cut']=='Very Good']['price'])"
      ],
      "metadata": {
        "colab": {
          "base_uri": "https://localhost:8080/"
        },
        "outputId": "6f68b977-f30c-4587-9807-d7dbb0e22ac0",
        "id": "AXs79ZWDgiSP"
      },
      "execution_count": null,
      "outputs": [
        {
          "output_type": "execute_result",
          "data": {
            "text/plain": [
              "KruskalResult(statistic=922.0307438151881, pvalue=2.806883149556259e-198)"
            ]
          },
          "metadata": {},
          "execution_count": 106
        }
      ]
    },
    {
      "cell_type": "markdown",
      "source": [
        "P-value < a, при уровне значимости a, следовательно существуют статистически значимые отличия по крйней мере для одного типа огранки."
      ],
      "metadata": {
        "id": "5qx-j36HhZPz"
      }
    },
    {
      "cell_type": "markdown",
      "source": [
        "Проверим зависимость между цветом алмаза и ценой"
      ],
      "metadata": {
        "id": "mRILxgZIiUzi"
      }
    },
    {
      "cell_type": "code",
      "source": [
        "sns.boxplot(data=clear_df, x='color', y='price', showmeans=True)\n",
        "plt.title('Распределения цены по вариациям цвета')\n",
        "plt.show()"
      ],
      "metadata": {
        "colab": {
          "base_uri": "https://localhost:8080/",
          "height": 472
        },
        "id": "x0rX3vnqibNP",
        "outputId": "5d312e80-8215-40db-984c-6b5b4412920e"
      },
      "execution_count": null,
      "outputs": [
        {
          "output_type": "display_data",
          "data": {
            "text/plain": [
              "<Figure size 640x480 with 1 Axes>"
            ],
            "image/png": "[encoded data removed]"
          },
          "metadata": {}
        }
      ]
    },
    {
      "cell_type": "code",
      "source": [
        "stats.kruskal(df[df['color']=='E']['price'],df[df['color']=='F']['price'],df[df['color']=='H']['price'],df[df['color']=='G']['price'],\n",
        "              df[df['color']=='J']['price'], df[df['color']=='I']['price'], df[df['color']=='D']['price'])"
      ],
      "metadata": {
        "colab": {
          "base_uri": "https://localhost:8080/"
        },
        "id": "fnclzOFwjGXy",
        "outputId": "2cea0797-ab4c-4dde-8774-3745340194f8"
      },
      "execution_count": null,
      "outputs": [
        {
          "output_type": "execute_result",
          "data": {
            "text/plain": [
              "KruskalResult(statistic=1335.570626350983, pvalue=2.1580813998043093e-285)"
            ]
          },
          "metadata": {},
          "execution_count": 109
        }
      ]
    },
    {
      "cell_type": "code",
      "source": [
        "stats.kruskal(clear_df[clear_df['color']=='E']['price'],clear_df[clear_df['color']=='F']['price'],clear_df[clear_df['color']=='H']['price'],\n",
        "              clear_df[clear_df['color']=='G']['price'],clear_df[clear_df['color']=='J']['price'], clear_df[clear_df['color']=='I']['price'],\n",
        "              clear_df[clear_df['color']=='D']['price'])"
      ],
      "metadata": {
        "colab": {
          "base_uri": "https://localhost:8080/"
        },
        "id": "s3e-3tAAjmZB",
        "outputId": "37afeb35-3e67-4987-cad0-5e03b8bc9109"
      },
      "execution_count": null,
      "outputs": [
        {
          "output_type": "execute_result",
          "data": {
            "text/plain": [
              "KruskalResult(statistic=710.2266561651539, pvalue=3.787834964298273e-150)"
            ]
          },
          "metadata": {},
          "execution_count": 110
        }
      ]
    },
    {
      "cell_type": "markdown",
      "source": [
        "Снова видим что существуют статистически значимые отличия для разных цветов"
      ],
      "metadata": {
        "id": "FpHaGepij6tX"
      }
    },
    {
      "cell_type": "markdown",
      "source": [
        "Аналогично проверим чистоту"
      ],
      "metadata": {
        "id": "vmd2n6-kkdRq"
      }
    },
    {
      "cell_type": "code",
      "source": [
        "sns.boxplot(data=clear_df, x='clarity', y='price', showmeans=True)\n",
        "plt.title('Распределения цены по вариациям чистоты')\n",
        "plt.show()"
      ],
      "metadata": {
        "colab": {
          "base_uri": "https://localhost:8080/",
          "height": 472
        },
        "id": "lRlxbTwonEa8",
        "outputId": "94d5e013-2e95-4646-b650-3e6584ed4277"
      },
      "execution_count": null,
      "outputs": [
        {
          "output_type": "display_data",
          "data": {
            "text/plain": [
              "<Figure size 640x480 with 1 Axes>"
            ],
            "image/png": "[encoded data removed]"
          },
          "metadata": {}
        }
      ]
    },
    {
      "cell_type": "code",
      "source": [
        "stats.kruskal(clear_df[clear_df['clarity']=='SI1']['price'],clear_df[clear_df['clarity']=='VS2']['price'],clear_df[clear_df['clarity']=='SI2']['price'],\n",
        "              clear_df[clear_df['clarity']=='IF']['price'],clear_df[clear_df['clarity']=='VVS1']['price'],clear_df[clear_df['clarity']=='VVS2']['price'])"
      ],
      "metadata": {
        "colab": {
          "base_uri": "https://localhost:8080/"
        },
        "id": "b7T7yuoXkbih",
        "outputId": "181e3799-e516-475d-83ac-86d0144df88c"
      },
      "execution_count": null,
      "outputs": [
        {
          "output_type": "execute_result",
          "data": {
            "text/plain": [
              "KruskalResult(statistic=2934.3326996161572, pvalue=0.0)"
            ]
          },
          "metadata": {},
          "execution_count": 129
        }
      ]
    },
    {
      "cell_type": "markdown",
      "source": [
        "Статистически значимые отличия есть"
      ],
      "metadata": {
        "id": "vFxKMRe1njLU"
      }
    },
    {
      "cell_type": "markdown",
      "source": [
        "Путём анализа с применением критериев сравенения групп была выявлена зависимость цены от огранки, цвета и чистоты"
      ],
      "metadata": {
        "id": "M6LcattvoKg6"
      }
    },
    {
      "cell_type": "markdown",
      "source": [
        "#3. Корреляционный анализ"
      ],
      "metadata": {
        "id": "qOL_ra-QofZc"
      }
    },
    {
      "cell_type": "markdown",
      "source": [
        "Проверим корреляцию количественных признаков"
      ],
      "metadata": {
        "id": "4HmcTYskouLK"
      }
    },
    {
      "cell_type": "code",
      "source": [
        "clear_df[['carat','depth','table','price','x (Premium)','z (Very Good)','y (Good)']].corr()"
      ],
      "metadata": {
        "colab": {
          "base_uri": "https://localhost:8080/",
          "height": 269
        },
        "id": "A_Okw_0koqLE",
        "outputId": "a76d63ca-fb1e-4065-e62a-7d64eb7d089b"
      },
      "execution_count": null,
      "outputs": [
        {
          "output_type": "execute_result",
          "data": {
            "text/plain": [
              "                  carat     depth     table     price  x (Premium)  \\\n",
              "carat          1.000000  0.059509  0.190061  0.922585     0.982154   \n",
              "depth          0.059509  1.000000 -0.291148  0.020840    -0.007707   \n",
              "table          0.190061 -0.291148  1.000000  0.139836     0.197351   \n",
              "price          0.922585  0.020840  0.139836  1.000000     0.907390   \n",
              "x (Premium)    0.982154 -0.007707  0.197351  0.907390     1.000000   \n",
              "z (Very Good)  0.953781  0.128659  0.145480  0.878046     0.960924   \n",
              "y (Good)       0.972894 -0.011329  0.187811  0.901638     0.989205   \n",
              "\n",
              "               z (Very Good)  y (Good)  \n",
              "carat               0.953781  0.972894  \n",
              "depth               0.128659 -0.011329  \n",
              "table               0.145480  0.187811  \n",
              "price               0.878046  0.901638  \n",
              "x (Premium)         0.960924  0.989205  \n",
              "z (Very Good)       1.000000  0.953840  \n",
              "y (Good)            0.953840  1.000000  "
            ],
            "text/html": [
              "\n",
              "  <div id=\"df-d30c88d9-2956-447e-83e0-0a9dfc293ea4\" class=\"colab-df-container\">\n",
              "    <div>\n",
              "<style scoped>\n",
              "    .dataframe tbody tr th:only-of-type {\n",
              "        vertical-align: middle;\n",
              "    }\n",
              "\n",
              "    .dataframe tbody tr th {\n",
              "        vertical-align: top;\n",
              "    }\n",
              "\n",
              "    .dataframe thead th {\n",
              "        text-align: right;\n",
              "    }\n",
              "</style>\n",
              "<table border=\"1\" class=\"dataframe\">\n",
              "  <thead>\n",
              "    <tr style=\"text-align: right;\">\n",
              "      <th></th>\n",
              "      <th>carat</th>\n",
              "      <th>depth</th>\n",
              "      <th>table</th>\n",
              "      <th>price</th>\n",
              "      <th>x (Premium)</th>\n",
              "      <th>z (Very Good)</th>\n",
              "      <th>y (Good)</th>\n",
              "    </tr>\n",
              "  </thead>\n",
              "  <tbody>\n",
              "    <tr>\n",
              "      <th>carat</th>\n",
              "      <td>1.000000</td>\n",
              "      <td>0.059509</td>\n",
              "      <td>0.190061</td>\n",
              "      <td>0.922585</td>\n",
              "      <td>0.982154</td>\n",
              "      <td>0.953781</td>\n",
              "      <td>0.972894</td>\n",
              "    </tr>\n",
              "    <tr>\n",
              "      <th>depth</th>\n",
              "      <td>0.059509</td>\n",
              "      <td>1.000000</td>\n",
              "      <td>-0.291148</td>\n",
              "      <td>0.020840</td>\n",
              "      <td>-0.007707</td>\n",
              "      <td>0.128659</td>\n",
              "      <td>-0.011329</td>\n",
              "    </tr>\n",
              "    <tr>\n",
              "      <th>table</th>\n",
              "      <td>0.190061</td>\n",
              "      <td>-0.291148</td>\n",
              "      <td>1.000000</td>\n",
              "      <td>0.139836</td>\n",
              "      <td>0.197351</td>\n",
              "      <td>0.145480</td>\n",
              "      <td>0.187811</td>\n",
              "    </tr>\n",
              "    <tr>\n",
              "      <th>price</th>\n",
              "      <td>0.922585</td>\n",
              "      <td>0.020840</td>\n",
              "      <td>0.139836</td>\n",
              "      <td>1.000000</td>\n",
              "      <td>0.907390</td>\n",
              "      <td>0.878046</td>\n",
              "      <td>0.901638</td>\n",
              "    </tr>\n",
              "    <tr>\n",
              "      <th>x (Premium)</th>\n",
              "      <td>0.982154</td>\n",
              "      <td>-0.007707</td>\n",
              "      <td>0.197351</td>\n",
              "      <td>0.907390</td>\n",
              "      <td>1.000000</td>\n",
              "      <td>0.960924</td>\n",
              "      <td>0.989205</td>\n",
              "    </tr>\n",
              "    <tr>\n",
              "      <th>z (Very Good)</th>\n",
              "      <td>0.953781</td>\n",
              "      <td>0.128659</td>\n",
              "      <td>0.145480</td>\n",
              "      <td>0.878046</td>\n",
              "      <td>0.960924</td>\n",
              "      <td>1.000000</td>\n",
              "      <td>0.953840</td>\n",
              "    </tr>\n",
              "    <tr>\n",
              "      <th>y (Good)</th>\n",
              "      <td>0.972894</td>\n",
              "      <td>-0.011329</td>\n",
              "      <td>0.187811</td>\n",
              "      <td>0.901638</td>\n",
              "      <td>0.989205</td>\n",
              "      <td>0.953840</td>\n",
              "      <td>1.000000</td>\n",
              "    </tr>\n",
              "  </tbody>\n",
              "</table>\n",
              "</div>\n",
              "    <div class=\"colab-df-buttons\">\n",
              "\n",
              "  <div class=\"colab-df-container\">\n",
              "    <button class=\"colab-df-convert\" onclick=\"convertToInteractive('df-d30c88d9-2956-447e-83e0-0a9dfc293ea4')\"\n",
              "            title=\"Convert this dataframe to an interactive table.\"\n",
              "            style=\"display:none;\">\n",
              "\n",
              "  <svg xmlns=\"http://www.w3.org/2000/svg\" height=\"24px\" viewBox=\"0 -960 960 960\">\n",
              "    <path d=\"M120-120v-720h720v720H120Zm60-500h600v-160H180v160Zm220 220h160v-160H400v160Zm0 220h160v-160H400v160ZM180-400h160v-160H180v160Zm440 0h160v-160H620v160ZM180-180h160v-160H180v160Zm440 0h160v-160H620v160Z\"/>\n",
              "  </svg>\n",
              "    </button>\n",
              "\n",
              "  <style>\n",
              "    .colab-df-container {\n",
              "      display:flex;\n",
              "      gap: 12px;\n",
              "    }\n",
              "\n",
              "    .colab-df-convert {\n",
              "      background-color: #E8F0FE;\n",
              "      border: none;\n",
              "      border-radius: 50%;\n",
              "      cursor: pointer;\n",
              "      display: none;\n",
              "      fill: #1967D2;\n",
              "      height: 32px;\n",
              "      padding: 0 0 0 0;\n",
              "      width: 32px;\n",
              "    }\n",
              "\n",
              "    .colab-df-convert:hover {\n",
              "      background-color: #E2EBFA;\n",
              "      box-shadow: 0px 1px 2px rgba(60, 64, 67, 0.3), 0px 1px 3px 1px rgba(60, 64, 67, 0.15);\n",
              "      fill: #174EA6;\n",
              "    }\n",
              "\n",
              "    .colab-df-buttons div {\n",
              "      margin-bottom: 4px;\n",
              "    }\n",
              "\n",
              "    [theme=dark] .colab-df-convert {\n",
              "      background-color: #3B4455;\n",
              "      fill: #D2E3FC;\n",
              "    }\n",
              "\n",
              "    [theme=dark] .colab-df-convert:hover {\n",
              "      background-color: #434B5C;\n",
              "      box-shadow: 0px 1px 3px 1px rgba(0, 0, 0, 0.15);\n",
              "      filter: drop-shadow(0px 1px 2px rgba(0, 0, 0, 0.3));\n",
              "      fill: #FFFFFF;\n",
              "    }\n",
              "  </style>\n",
              "\n",
              "    <script>\n",
              "      const buttonEl =\n",
              "        document.querySelector('#df-d30c88d9-2956-447e-83e0-0a9dfc293ea4 button.colab-df-convert');\n",
              "      buttonEl.style.display =\n",
              "        google.colab.kernel.accessAllowed ? 'block' : 'none';\n",
              "\n",
              "      async function convertToInteractive(key) {\n",
              "        const element = document.querySelector('#df-d30c88d9-2956-447e-83e0-0a9dfc293ea4');\n",
              "        const dataTable =\n",
              "          await google.colab.kernel.invokeFunction('convertToInteractive',\n",
              "                                                    [key], {});\n",
              "        if (!dataTable) return;\n",
              "\n",
              "        const docLinkHtml = 'Like what you see? Visit the ' +\n",
              "          '<a target=\"_blank\" href=https://colab.research.google.com/notebooks/data_table.ipynb>data table notebook</a>'\n",
              "          + ' to learn more about interactive tables.';\n",
              "        element.innerHTML = '';\n",
              "        dataTable['output_type'] = 'display_data';\n",
              "        await google.colab.output.renderOutput(dataTable, element);\n",
              "        const docLink = document.createElement('div');\n",
              "        docLink.innerHTML = docLinkHtml;\n",
              "        element.appendChild(docLink);\n",
              "      }\n",
              "    </script>\n",
              "  </div>\n",
              "\n",
              "\n",
              "<div id=\"df-88602db5-76e6-4960-91dc-ff04d0dae4c0\">\n",
              "  <button class=\"colab-df-quickchart\" onclick=\"quickchart('df-88602db5-76e6-4960-91dc-ff04d0dae4c0')\"\n",
              "            title=\"Suggest charts\"\n",
              "            style=\"display:none;\">\n",
              "\n",
              "<svg xmlns=\"http://www.w3.org/2000/svg\" height=\"24px\"viewBox=\"0 0 24 24\"\n",
              "     width=\"24px\">\n",
              "    <g>\n",
              "        <path d=\"M19 3H5c-1.1 0-2 .9-2 2v14c0 1.1.9 2 2 2h14c1.1 0 2-.9 2-2V5c0-1.1-.9-2-2-2zM9 17H7v-7h2v7zm4 0h-2V7h2v10zm4 0h-2v-4h2v4z\"/>\n",
              "    </g>\n",
              "</svg>\n",
              "  </button>\n",
              "\n",
              "<style>\n",
              "  .colab-df-quickchart {\n",
              "      --bg-color: #E8F0FE;\n",
              "      --fill-color: #1967D2;\n",
              "      --hover-bg-color: #E2EBFA;\n",
              "      --hover-fill-color: #174EA6;\n",
              "      --disabled-fill-color: #AAA;\n",
              "      --disabled-bg-color: #DDD;\n",
              "  }\n",
              "\n",
              "  [theme=dark] .colab-df-quickchart {\n",
              "      --bg-color: #3B4455;\n",
              "      --fill-color: #D2E3FC;\n",
              "      --hover-bg-color: #434B5C;\n",
              "      --hover-fill-color: #FFFFFF;\n",
              "      --disabled-bg-color: #3B4455;\n",
              "      --disabled-fill-color: #666;\n",
              "  }\n",
              "\n",
              "  .colab-df-quickchart {\n",
              "    background-color: var(--bg-color);\n",
              "    border: none;\n",
              "    border-radius: 50%;\n",
              "    cursor: pointer;\n",
              "    display: none;\n",
              "    fill: var(--fill-color);\n",
              "    height: 32px;\n",
              "    padding: 0;\n",
              "    width: 32px;\n",
              "  }\n",
              "\n",
              "  .colab-df-quickchart:hover {\n",
              "    background-color: var(--hover-bg-color);\n",
              "    box-shadow: 0 1px 2px rgba(60, 64, 67, 0.3), 0 1px 3px 1px rgba(60, 64, 67, 0.15);\n",
              "    fill: var(--button-hover-fill-color);\n",
              "  }\n",
              "\n",
              "  .colab-df-quickchart-complete:disabled,\n",
              "  .colab-df-quickchart-complete:disabled:hover {\n",
              "    background-color: var(--disabled-bg-color);\n",
              "    fill: var(--disabled-fill-color);\n",
              "    box-shadow: none;\n",
              "  }\n",
              "\n",
              "  .colab-df-spinner {\n",
              "    border: 2px solid var(--fill-color);\n",
              "    border-color: transparent;\n",
              "    border-bottom-color: var(--fill-color);\n",
              "    animation:\n",
              "      spin 1s steps(1) infinite;\n",
              "  }\n",
              "\n",
              "  @keyframes spin {\n",
              "    0% {\n",
              "      border-color: transparent;\n",
              "      border-bottom-color: var(--fill-color);\n",
              "      border-left-color: var(--fill-color);\n",
              "    }\n",
              "    20% {\n",
              "      border-color: transparent;\n",
              "      border-left-color: var(--fill-color);\n",
              "      border-top-color: var(--fill-color);\n",
              "    }\n",
              "    30% {\n",
              "      border-color: transparent;\n",
              "      border-left-color: var(--fill-color);\n",
              "      border-top-color: var(--fill-color);\n",
              "      border-right-color: var(--fill-color);\n",
              "    }\n",
              "    40% {\n",
              "      border-color: transparent;\n",
              "      border-right-color: var(--fill-color);\n",
              "      border-top-color: var(--fill-color);\n",
              "    }\n",
              "    60% {\n",
              "      border-color: transparent;\n",
              "      border-right-color: var(--fill-color);\n",
              "    }\n",
              "    80% {\n",
              "      border-color: transparent;\n",
              "      border-right-color: var(--fill-color);\n",
              "      border-bottom-color: var(--fill-color);\n",
              "    }\n",
              "    90% {\n",
              "      border-color: transparent;\n",
              "      border-bottom-color: var(--fill-color);\n",
              "    }\n",
              "  }\n",
              "</style>\n",
              "\n",
              "  <script>\n",
              "    async function quickchart(key) {\n",
              "      const quickchartButtonEl =\n",
              "        document.querySelector('#' + key + ' button');\n",
              "      quickchartButtonEl.disabled = true;  // To prevent multiple clicks.\n",
              "      quickchartButtonEl.classList.add('colab-df-spinner');\n",
              "      try {\n",
              "        const charts = await google.colab.kernel.invokeFunction(\n",
              "            'suggestCharts', [key], {});\n",
              "      } catch (error) {\n",
              "        console.error('Error during call to suggestCharts:', error);\n",
              "      }\n",
              "      quickchartButtonEl.classList.remove('colab-df-spinner');\n",
              "      quickchartButtonEl.classList.add('colab-df-quickchart-complete');\n",
              "    }\n",
              "    (() => {\n",
              "      let quickchartButtonEl =\n",
              "        document.querySelector('#df-88602db5-76e6-4960-91dc-ff04d0dae4c0 button');\n",
              "      quickchartButtonEl.style.display =\n",
              "        google.colab.kernel.accessAllowed ? 'block' : 'none';\n",
              "    })();\n",
              "  </script>\n",
              "</div>\n",
              "    </div>\n",
              "  </div>\n"
            ],
            "application/vnd.google.colaboratory.intrinsic+json": {
              "type": "dataframe",
              "summary": "{\n  \"name\": \"clear_df[['carat','depth','table','price','x (Premium)','z (Very Good)','y (Good)']]\",\n  \"rows\": 7,\n  \"fields\": [\n    {\n      \"column\": \"carat\",\n      \"properties\": {\n        \"dtype\": \"number\",\n        \"std\": 0.41304120105770986,\n        \"min\": 0.059509363049720314,\n        \"max\": 1.0,\n        \"num_unique_values\": 7,\n        \"samples\": [\n          1.0,\n          0.059509363049720314,\n          0.9537814835421594\n        ],\n        \"semantic_type\": \"\",\n        \"description\": \"\"\n      }\n    },\n    {\n      \"column\": \"depth\",\n      \"properties\": {\n        \"dtype\": \"number\",\n        \"std\": 0.4062166733929106,\n        \"min\": -0.2911483740261926,\n        \"max\": 1.0,\n        \"num_unique_values\": 7,\n        \"samples\": [\n          0.059509363049720314,\n          1.0,\n          0.12865902510402183\n        ],\n        \"semantic_type\": \"\",\n        \"description\": \"\"\n      }\n    },\n    {\n      \"column\": \"table\",\n      \"properties\": {\n        \"dtype\": \"number\",\n        \"std\": 0.3838346710683059,\n        \"min\": -0.2911483740261926,\n        \"max\": 1.0,\n        \"num_unique_values\": 7,\n        \"samples\": [\n          0.1900605410897253,\n          -0.2911483740261926,\n          0.14547982080319705\n        ],\n        \"semantic_type\": \"\",\n        \"description\": \"\"\n      }\n    },\n    {\n      \"column\": \"price\",\n      \"properties\": {\n        \"dtype\": \"number\",\n        \"std\": 0.41383443212152543,\n        \"min\": 0.02083985213059609,\n        \"max\": 1.0,\n        \"num_unique_values\": 7,\n        \"samples\": [\n          0.9225851986405169,\n          0.02083985213059609,\n          0.8780461015744221\n        ],\n        \"semantic_type\": \"\",\n        \"description\": \"\"\n      }\n    },\n    {\n      \"column\": \"x (Premium)\",\n      \"properties\": {\n        \"dtype\": \"number\",\n        \"std\": 0.43117256568308143,\n        \"min\": -0.007706702607615457,\n        \"max\": 1.0,\n        \"num_unique_values\": 7,\n        \"samples\": [\n          0.9821537114104468,\n          -0.007706702607615457,\n          0.9609239234721259\n        ],\n        \"semantic_type\": \"\",\n        \"description\": \"\"\n      }\n    },\n    {\n      \"column\": \"z (Very Good)\",\n      \"properties\": {\n        \"dtype\": \"number\",\n        \"std\": 0.39800800178682616,\n        \"min\": 0.12865902510402183,\n        \"max\": 1.0,\n        \"num_unique_values\": 7,\n        \"samples\": [\n          0.9537814835421594,\n          0.12865902510402183,\n          1.0\n        ],\n        \"semantic_type\": \"\",\n        \"description\": \"\"\n      }\n    },\n    {\n      \"column\": \"y (Good)\",\n      \"properties\": {\n        \"dtype\": \"number\",\n        \"std\": 0.4321008888307936,\n        \"min\": -0.011329415403975642,\n        \"max\": 1.0,\n        \"num_unique_values\": 7,\n        \"samples\": [\n          0.9728939222226827,\n          -0.011329415403975642,\n          0.9538396679038204\n        ],\n        \"semantic_type\": \"\",\n        \"description\": \"\"\n      }\n    }\n  ]\n}"
            }
          },
          "metadata": {},
          "execution_count": 125
        }
      ]
    },
    {
      "cell_type": "markdown",
      "source": [
        "Построим тепловую карту"
      ],
      "metadata": {
        "id": "rr-2WCLRp-rr"
      }
    },
    {
      "cell_type": "code",
      "source": [
        "hm = sns.heatmap(clear_df[['carat','depth','table','price','x (Premium)','z (Very Good)','y (Good)']].corr(method='spearman'), annot=True)\n",
        "plt.show()"
      ],
      "metadata": {
        "colab": {
          "base_uri": "https://localhost:8080/",
          "height": 516
        },
        "id": "GL8IgPhEqCxG",
        "outputId": "f6c83f33-8029-462e-a7b8-ba37e22e3225"
      },
      "execution_count": null,
      "outputs": [
        {
          "output_type": "display_data",
          "data": {
            "text/plain": [
              "<Figure size 640x480 with 2 Axes>"
            ],
            "image/png": "[encoded data removed]"
          },
          "metadata": {}
        }
      ]
    },
    {
      "cell_type": "markdown",
      "source": [
        "Корреляция есть между: carat, price, x, y, z.\n",
        "\n",
        "depth и table ни с чем не коррелируют"
      ],
      "metadata": {
        "id": "KJRUPN2Yqfwq"
      }
    },
    {
      "cell_type": "code",
      "source": [],
      "metadata": {
        "id": "46nezCiRf14C"
      },
      "execution_count": null,
      "outputs": []
    },
    {
      "cell_type": "markdown",
      "source": [
        "Проверим корреляцию каегориальных переменных."
      ],
      "metadata": {
        "id": "zZHfccJ-sonx"
      }
    },
    {
      "cell_type": "code",
      "source": [
        "cut_color=pd.crosstab(clear_df['cut'],clear_df['color'])"
      ],
      "metadata": {
        "id": "PQcx9X1Cs9oV"
      },
      "execution_count": null,
      "outputs": []
    },
    {
      "cell_type": "code",
      "source": [
        "chi2, p, dof, expected = stats.chi2_contingency(cut_color)\n",
        "p"
      ],
      "metadata": {
        "colab": {
          "base_uri": "https://localhost:8080/"
        },
        "id": "vVy40n4e_KVg",
        "outputId": "9963853a-4554-4566-d165-100635b4a360"
      },
      "execution_count": null,
      "outputs": [
        {
          "output_type": "execute_result",
          "data": {
            "text/plain": [
              "6.12517874922953e-39"
            ]
          },
          "metadata": {},
          "execution_count": 165
        }
      ]
    },
    {
      "cell_type": "markdown",
      "source": [
        "Статистически значимая связь между cut и color есть"
      ],
      "metadata": {
        "id": "u7QsurZE_RuX"
      }
    },
    {
      "cell_type": "code",
      "source": [
        "n = cut_color.sum().sum()"
      ],
      "metadata": {
        "id": "dOY_9ReVv4Pn"
      },
      "execution_count": null,
      "outputs": []
    },
    {
      "cell_type": "code",
      "source": [
        "import numpy as np"
      ],
      "metadata": {
        "id": "eAriq9CDDXO1"
      },
      "execution_count": null,
      "outputs": []
    },
    {
      "cell_type": "code",
      "source": [
        "cramers_v = np.sqrt(chi2 / (n * (min(cut_color.shape) - 1)))"
      ],
      "metadata": {
        "id": "XdxQIdb0DRKT"
      },
      "execution_count": null,
      "outputs": []
    },
    {
      "cell_type": "code",
      "source": [
        "cramers_v"
      ],
      "metadata": {
        "colab": {
          "base_uri": "https://localhost:8080/"
        },
        "id": "0euRX3fZDaNN",
        "outputId": "c60e8794-d9be-4ea6-f725-715033ab3602"
      },
      "execution_count": null,
      "outputs": [
        {
          "output_type": "execute_result",
          "data": {
            "text/plain": [
              "0.03587335040217613"
            ]
          },
          "metadata": {},
          "execution_count": 169
        }
      ]
    },
    {
      "cell_type": "markdown",
      "source": [
        "Связь очень незначительна"
      ],
      "metadata": {
        "id": "T25_hokGDta3"
      }
    },
    {
      "cell_type": "code",
      "source": [
        "cut_clarity=pd.crosstab(clear_df['cut'],clear_df['clarity'])\n",
        "chi2, p, dof, expected = stats.chi2_contingency(cut_clarity)\n",
        "print('p-value:',p)"
      ],
      "metadata": {
        "colab": {
          "base_uri": "https://localhost:8080/"
        },
        "collapsed": true,
        "id": "4CPoAD7fzN2D",
        "outputId": "8220924a-b3e1-4180-a90f-78e3c2e10867"
      },
      "execution_count": null,
      "outputs": [
        {
          "output_type": "stream",
          "name": "stdout",
          "text": [
            "p-value: 0.0\n"
          ]
        }
      ]
    },
    {
      "cell_type": "code",
      "source": [
        "n = cut_clarity.sum().sum()\n",
        "cramers_v = np.sqrt(chi2 / (n * (min(cut_clarity.shape) - 1)))\n",
        "cramers_v"
      ],
      "metadata": {
        "colab": {
          "base_uri": "https://localhost:8080/"
        },
        "id": "7Ln9vLoizhpp",
        "outputId": "62d780d5-8f49-4118-a8cc-72a22125fec9"
      },
      "execution_count": null,
      "outputs": [
        {
          "output_type": "execute_result",
          "data": {
            "text/plain": [
              "0.10101608380580884"
            ]
          },
          "metadata": {},
          "execution_count": 175
        }
      ]
    },
    {
      "cell_type": "markdown",
      "source": [
        "Связь между огранкой и чистотой очень мала"
      ],
      "metadata": {
        "id": "3M4ExI5KEj4S"
      }
    },
    {
      "cell_type": "code",
      "source": [
        "color_clarity=pd.crosstab(clear_df['color'],clear_df['clarity'])\n",
        "chi2, p, dof, expected = stats.chi2_contingency(color_clarity)\n",
        "print('p-value:',p)"
      ],
      "metadata": {
        "colab": {
          "base_uri": "https://localhost:8080/"
        },
        "id": "vgKBPzTfyQgw",
        "outputId": "9ed6e0e2-1c97-4970-a060-ff04e854cf94"
      },
      "execution_count": null,
      "outputs": [
        {
          "output_type": "stream",
          "name": "stdout",
          "text": [
            "p-value: 0.0\n"
          ]
        }
      ]
    },
    {
      "cell_type": "code",
      "source": [
        "n = color_clarity.sum().sum()\n",
        "cramers_v = np.sqrt(chi2 / (n * (min(color_clarity.shape) - 1)))\n",
        "cramers_v"
      ],
      "metadata": {
        "colab": {
          "base_uri": "https://localhost:8080/"
        },
        "id": "gIYZ6g2aExgT",
        "outputId": "d6793739-1687-4d75-bb75-f3559a2e1d32"
      },
      "execution_count": null,
      "outputs": [
        {
          "output_type": "execute_result",
          "data": {
            "text/plain": [
              "0.08247928704615155"
            ]
          },
          "metadata": {},
          "execution_count": 177
        }
      ]
    },
    {
      "cell_type": "markdown",
      "source": [
        "Степень взаимосвязи между цветом и чистотой опять же очень мала"
      ],
      "metadata": {
        "id": "lioU-zjSE_3V"
      }
    },
    {
      "cell_type": "markdown",
      "source": [
        "#4. Регрессионный анализ"
      ],
      "metadata": {
        "id": "a8PHziJhFOcH"
      }
    },
    {
      "cell_type": "code",
      "source": [
        "from sklearn.linear_model import LinearRegression"
      ],
      "metadata": {
        "id": "w6PoOsmKzDnP"
      },
      "execution_count": null,
      "outputs": []
    },
    {
      "cell_type": "code",
      "source": [
        "lr=LinearRegression()"
      ],
      "metadata": {
        "collapsed": true,
        "id": "s18YPQxk0yoe"
      },
      "execution_count": null,
      "outputs": []
    },
    {
      "cell_type": "markdown",
      "source": [
        "Построим для начала парную регрессию"
      ],
      "metadata": {
        "id": "Q-Q6fiSaMgsg"
      }
    },
    {
      "cell_type": "code",
      "source": [
        "model1=lr.fit(clear_df[['carat']], clear_df[['price']])"
      ],
      "metadata": {
        "id": "VZy-aH19MgGa"
      },
      "execution_count": null,
      "outputs": []
    },
    {
      "cell_type": "code",
      "source": [
        "model1.intercept_, model1.coef_"
      ],
      "metadata": {
        "colab": {
          "base_uri": "https://localhost:8080/"
        },
        "id": "3d3M-t1M0-Qi",
        "outputId": "58c09065-cc63-4d2b-adf9-6899cd8c8301"
      },
      "execution_count": null,
      "outputs": [
        {
          "output_type": "execute_result",
          "data": {
            "text/plain": [
              "(array([-1343.23346968]), array([[6026.65197939]]))"
            ]
          },
          "metadata": {},
          "execution_count": 187
        }
      ]
    },
    {
      "cell_type": "code",
      "source": [
        "r2=model1.score(clear_df[['carat']], clear_df[['price']])\n",
        "r2"
      ],
      "metadata": {
        "colab": {
          "base_uri": "https://localhost:8080/"
        },
        "id": "daMuQN-670Ym",
        "outputId": "d012643f-864d-4479-aaf0-898d4ad2eff9"
      },
      "execution_count": null,
      "outputs": [
        {
          "output_type": "execute_result",
          "data": {
            "text/plain": [
              "0.8511634487505579"
            ]
          },
          "metadata": {},
          "execution_count": 189
        }
      ]
    },
    {
      "cell_type": "markdown",
      "source": [
        "Метрика качества (коэффициент детерминации) близок к 1, модель мможно считать адекватной"
      ],
      "metadata": {
        "id": "YO6fDFL6NoE-"
      }
    },
    {
      "cell_type": "code",
      "source": [
        "import statsmodels.api as sm\n",
        "import statsmodels.formula.api as smf"
      ],
      "metadata": {
        "id": "ukxcU_7W8aDA"
      },
      "execution_count": null,
      "outputs": []
    },
    {
      "cell_type": "code",
      "source": [
        "res_model1= smf.ols('price ~ carat', data=clear_df).fit()\n",
        "res_model1.summary()"
      ],
      "metadata": {
        "colab": {
          "base_uri": "https://localhost:8080/",
          "height": 448
        },
        "id": "nCZgjCU68hD6",
        "outputId": "6c90548a-24b6-4cf5-9151-7391374440cc"
      },
      "execution_count": null,
      "outputs": [
        {
          "output_type": "execute_result",
          "data": {
            "text/plain": [
              "<class 'statsmodels.iolib.summary.Summary'>\n",
              "\"\"\"\n",
              "                            OLS Regression Results                            \n",
              "==============================================================================\n",
              "Dep. Variable:                  price   R-squared:                       0.851\n",
              "Model:                            OLS   Adj. R-squared:                  0.851\n",
              "Method:                 Least Squares   F-statistic:                 2.745e+05\n",
              "Date:                Fri, 07 Feb 2025   Prob (F-statistic):               0.00\n",
              "Time:                        21:06:01   Log-Likelihood:            -3.9340e+05\n",
              "No. Observations:               48008   AIC:                         7.868e+05\n",
              "Df Residuals:                   48006   BIC:                         7.868e+05\n",
              "Df Model:                           1                                         \n",
              "Covariance Type:            nonrobust                                         \n",
              "==============================================================================\n",
              "                 coef    std err          t      P>|t|      [0.025      0.975]\n",
              "------------------------------------------------------------------------------\n",
              "Intercept  -1343.2335      8.848   -151.811      0.000   -1360.576   -1325.891\n",
              "carat       6026.6520     11.502    523.962      0.000    6004.108    6049.196\n",
              "==============================================================================\n",
              "Omnibus:                    10257.464   Durbin-Watson:                   0.983\n",
              "Prob(Omnibus):                  0.000   Jarque-Bera (JB):            94615.360\n",
              "Skew:                           0.768   Prob(JB):                         0.00\n",
              "Kurtosis:                       9.704   Cond. No.                         4.35\n",
              "==============================================================================\n",
              "\n",
              "Notes:\n",
              "[1] Standard Errors assume that the covariance matrix of the errors is correctly specified.\n",
              "\"\"\""
            ],
            "text/html": [
              "<table class=\"simpletable\">\n",
              "<caption>OLS Regression Results</caption>\n",
              "<tr>\n",
              "  <th>Dep. Variable:</th>          <td>price</td>      <th>  R-squared:         </th>  <td>   0.851</td>  \n",
              "</tr>\n",
              "<tr>\n",
              "  <th>Model:</th>                   <td>OLS</td>       <th>  Adj. R-squared:    </th>  <td>   0.851</td>  \n",
              "</tr>\n",
              "<tr>\n",
              "  <th>Method:</th>             <td>Least Squares</td>  <th>  F-statistic:       </th>  <td>2.745e+05</td> \n",
              "</tr>\n",
              "<tr>\n",
              "  <th>Date:</th>             <td>Fri, 07 Feb 2025</td> <th>  Prob (F-statistic):</th>   <td>  0.00</td>   \n",
              "</tr>\n",
              "<tr>\n",
              "  <th>Time:</th>                 <td>21:06:01</td>     <th>  Log-Likelihood:    </th> <td>-3.9340e+05</td>\n",
              "</tr>\n",
              "<tr>\n",
              "  <th>No. Observations:</th>      <td> 48008</td>      <th>  AIC:               </th>  <td>7.868e+05</td> \n",
              "</tr>\n",
              "<tr>\n",
              "  <th>Df Residuals:</th>          <td> 48006</td>      <th>  BIC:               </th>  <td>7.868e+05</td> \n",
              "</tr>\n",
              "<tr>\n",
              "  <th>Df Model:</th>              <td>     1</td>      <th>                     </th>      <td> </td>     \n",
              "</tr>\n",
              "<tr>\n",
              "  <th>Covariance Type:</th>      <td>nonrobust</td>    <th>                     </th>      <td> </td>     \n",
              "</tr>\n",
              "</table>\n",
              "<table class=\"simpletable\">\n",
              "<tr>\n",
              "      <td></td>         <th>coef</th>     <th>std err</th>      <th>t</th>      <th>P>|t|</th>  <th>[0.025</th>    <th>0.975]</th>  \n",
              "</tr>\n",
              "<tr>\n",
              "  <th>Intercept</th> <td>-1343.2335</td> <td>    8.848</td> <td> -151.811</td> <td> 0.000</td> <td>-1360.576</td> <td>-1325.891</td>\n",
              "</tr>\n",
              "<tr>\n",
              "  <th>carat</th>     <td> 6026.6520</td> <td>   11.502</td> <td>  523.962</td> <td> 0.000</td> <td> 6004.108</td> <td> 6049.196</td>\n",
              "</tr>\n",
              "</table>\n",
              "<table class=\"simpletable\">\n",
              "<tr>\n",
              "  <th>Omnibus:</th>       <td>10257.464</td> <th>  Durbin-Watson:     </th> <td>   0.983</td> \n",
              "</tr>\n",
              "<tr>\n",
              "  <th>Prob(Omnibus):</th>  <td> 0.000</td>   <th>  Jarque-Bera (JB):  </th> <td>94615.360</td>\n",
              "</tr>\n",
              "<tr>\n",
              "  <th>Skew:</th>           <td> 0.768</td>   <th>  Prob(JB):          </th> <td>    0.00</td> \n",
              "</tr>\n",
              "<tr>\n",
              "  <th>Kurtosis:</th>       <td> 9.704</td>   <th>  Cond. No.          </th> <td>    4.35</td> \n",
              "</tr>\n",
              "</table><br/><br/>Notes:<br/>[1] Standard Errors assume that the covariance matrix of the errors is correctly specified."
            ],
            "text/latex": "\\begin{center}\n\\begin{tabular}{lclc}\n\\toprule\n\\textbf{Dep. Variable:}    &      price       & \\textbf{  R-squared:         } &      0.851   \\\\\n\\textbf{Model:}            &       OLS        & \\textbf{  Adj. R-squared:    } &      0.851   \\\\\n\\textbf{Method:}           &  Least Squares   & \\textbf{  F-statistic:       } &  2.745e+05   \\\\\n\\textbf{Date:}             & Fri, 07 Feb 2025 & \\textbf{  Prob (F-statistic):} &      0.00    \\\\\n\\textbf{Time:}             &     21:06:01     & \\textbf{  Log-Likelihood:    } & -3.9340e+05  \\\\\n\\textbf{No. Observations:} &       48008      & \\textbf{  AIC:               } &  7.868e+05   \\\\\n\\textbf{Df Residuals:}     &       48006      & \\textbf{  BIC:               } &  7.868e+05   \\\\\n\\textbf{Df Model:}         &           1      & \\textbf{                     } &              \\\\\n\\textbf{Covariance Type:}  &    nonrobust     & \\textbf{                     } &              \\\\\n\\bottomrule\n\\end{tabular}\n\\begin{tabular}{lcccccc}\n                   & \\textbf{coef} & \\textbf{std err} & \\textbf{t} & \\textbf{P$> |$t$|$} & \\textbf{[0.025} & \\textbf{0.975]}  \\\\\n\\midrule\n\\textbf{Intercept} &   -1343.2335  &        8.848     &  -151.811  &         0.000        &    -1360.576    &    -1325.891     \\\\\n\\textbf{carat}     &    6026.6520  &       11.502     &   523.962  &         0.000        &     6004.108    &     6049.196     \\\\\n\\bottomrule\n\\end{tabular}\n\\begin{tabular}{lclc}\n\\textbf{Omnibus:}       & 10257.464 & \\textbf{  Durbin-Watson:     } &     0.983  \\\\\n\\textbf{Prob(Omnibus):} &    0.000  & \\textbf{  Jarque-Bera (JB):  } & 94615.360  \\\\\n\\textbf{Skew:}          &    0.768  & \\textbf{  Prob(JB):          } &      0.00  \\\\\n\\textbf{Kurtosis:}      &    9.704  & \\textbf{  Cond. No.          } &      4.35  \\\\\n\\bottomrule\n\\end{tabular}\n%\\caption{OLS Regression Results}\n\\end{center}\n\nNotes: \\newline\n [1] Standard Errors assume that the covariance matrix of the errors is correctly specified."
          },
          "metadata": {},
          "execution_count": 194
        }
      ]
    },
    {
      "cell_type": "markdown",
      "source": [
        "По критерию фишера модель является адекватной. Свободный член ≈ -1343.2, коэфициент перед фактором ≈ 6026.6. По p-value для статистики стьюдента видно, что оба коэффициента значимы для модели. По критерию Дарбина-Уотсона видно, что остатки положительно автокоррелированы. По критерию Жарка-Бера делаем вывод, что днные распределены не нормально."
      ],
      "metadata": {
        "id": "XfJny71yPCin"
      }
    },
    {
      "cell_type": "markdown",
      "source": [
        "Множественная регрессия"
      ],
      "metadata": {
        "id": "ASuVZLNJTHhA"
      }
    },
    {
      "cell_type": "markdown",
      "source": [
        "Так как регрессия работает с числами, то закодируем категориальные переменные"
      ],
      "metadata": {
        "id": "DE9RU-a5YTzr"
      }
    },
    {
      "cell_type": "code",
      "source": [
        "color_map={'D' : 7,'E' : 6,'F' : 5,'G' : 4,'H' : 3,'I' : 2,'J' : 1}\n",
        "cut_map={'Ideal' : 5, 'Premium' : 4,'Very Good' : 3,'Good' : 2,'Fair' : 1}\n",
        "clarity_map={'IF' : 8,'VVS1' : 7,'VVS2' : 6,'VS1' : 5,'VS2' : 4,'SI1' : 3,'SI2' : 2,'I1' : 1}"
      ],
      "metadata": {
        "id": "Ccl_aXQuUwNW"
      },
      "execution_count": null,
      "outputs": []
    },
    {
      "cell_type": "code",
      "source": [
        "clear_df['cut_encoded']=clear_df['cut'].map(cut_map)\n",
        "clear_df['color_encoded']=clear_df['color'].map(color_map)\n",
        "clear_df['clarity_encoded']=clear_df['clariy'].map(clarity_map)"
      ],
      "metadata": {
        "id": "hiPLqYB7Xbp9"
      },
      "execution_count": null,
      "outputs": []
    },
    {
      "cell_type": "code",
      "source": [
        "clear_df"
      ],
      "metadata": {
        "colab": {
          "base_uri": "https://localhost:8080/",
          "height": 423
        },
        "id": "Qb7iJiePXe44",
        "outputId": "d6c795de-b12b-4d66-8fb6-6c0aaf6f8e22"
      },
      "execution_count": null,
      "outputs": [
        {
          "output_type": "execute_result",
          "data": {
            "text/plain": [
              "             cut color clarity  carat  depth  table  price  x (Premium)  \\\n",
              "0           Fair     E     VS2   0.22   65.1   61.0    337         3.87   \n",
              "1           Fair     E     SI2   0.86   55.1   69.0   2757         6.45   \n",
              "2           Fair     F     SI2   0.96   66.3   62.0   2759         6.27   \n",
              "3           Fair     F     VS2   0.70   64.5   57.0   2762         5.57   \n",
              "4           Fair     F     VS2   0.70   65.3   55.0   2762         5.63   \n",
              "...          ...   ...     ...    ...    ...    ...    ...          ...   \n",
              "53935  Very Good     E     VS2   0.70   62.8   60.0   2755         5.59   \n",
              "53936  Very Good     D     VS1   0.70   63.1   59.0   2755         5.67   \n",
              "53937  Very Good     E     VS2   0.70   60.5   59.0   2757         5.71   \n",
              "53938  Very Good     E     VS2   0.70   61.2   59.0   2757         5.69   \n",
              "53939  Very Good     D     SI1   0.70   62.8   60.0   2757         5.66   \n",
              "\n",
              "       z (Very Good)  y (Good)  cut_encoded  clarity_encoded  color_encoded  \n",
              "0               2.49      3.78            1                4              6  \n",
              "1               3.52      6.33            1                2              6  \n",
              "2               4.07      5.95            1                2              5  \n",
              "3               3.58      5.53            1                4              5  \n",
              "4               3.66      5.58            1                4              5  \n",
              "...              ...       ...          ...              ...            ...  \n",
              "53935           3.53      5.65            3                4              6  \n",
              "53936           3.55      5.58            3                5              7  \n",
              "53937           3.47      5.76            3                4              6  \n",
              "53938           3.49      5.72            3                4              6  \n",
              "53939           3.56      5.68            3                3              7  \n",
              "\n",
              "[48008 rows x 13 columns]"
            ],
            "text/html": [
              "\n",
              "  <div id=\"df-2b5b260b-2329-4182-bd50-8eb180a97f80\" class=\"colab-df-container\">\n",
              "    <div>\n",
              "<style scoped>\n",
              "    .dataframe tbody tr th:only-of-type {\n",
              "        vertical-align: middle;\n",
              "    }\n",
              "\n",
              "    .dataframe tbody tr th {\n",
              "        vertical-align: top;\n",
              "    }\n",
              "\n",
              "    .dataframe thead th {\n",
              "        text-align: right;\n",
              "    }\n",
              "</style>\n",
              "<table border=\"1\" class=\"dataframe\">\n",
              "  <thead>\n",
              "    <tr style=\"text-align: right;\">\n",
              "      <th></th>\n",
              "      <th>cut</th>\n",
              "      <th>color</th>\n",
              "      <th>clarity</th>\n",
              "      <th>carat</th>\n",
              "      <th>depth</th>\n",
              "      <th>table</th>\n",
              "      <th>price</th>\n",
              "      <th>x (Premium)</th>\n",
              "      <th>z (Very Good)</th>\n",
              "      <th>y (Good)</th>\n",
              "      <th>cut_encoded</th>\n",
              "      <th>clarity_encoded</th>\n",
              "      <th>color_encoded</th>\n",
              "    </tr>\n",
              "  </thead>\n",
              "  <tbody>\n",
              "    <tr>\n",
              "      <th>0</th>\n",
              "      <td>Fair</td>\n",
              "      <td>E</td>\n",
              "      <td>VS2</td>\n",
              "      <td>0.22</td>\n",
              "      <td>65.1</td>\n",
              "      <td>61.0</td>\n",
              "      <td>337</td>\n",
              "      <td>3.87</td>\n",
              "      <td>2.49</td>\n",
              "      <td>3.78</td>\n",
              "      <td>1</td>\n",
              "      <td>4</td>\n",
              "      <td>6</td>\n",
              "    </tr>\n",
              "    <tr>\n",
              "      <th>1</th>\n",
              "      <td>Fair</td>\n",
              "      <td>E</td>\n",
              "      <td>SI2</td>\n",
              "      <td>0.86</td>\n",
              "      <td>55.1</td>\n",
              "      <td>69.0</td>\n",
              "      <td>2757</td>\n",
              "      <td>6.45</td>\n",
              "      <td>3.52</td>\n",
              "      <td>6.33</td>\n",
              "      <td>1</td>\n",
              "      <td>2</td>\n",
              "      <td>6</td>\n",
              "    </tr>\n",
              "    <tr>\n",
              "      <th>2</th>\n",
              "      <td>Fair</td>\n",
              "      <td>F</td>\n",
              "      <td>SI2</td>\n",
              "      <td>0.96</td>\n",
              "      <td>66.3</td>\n",
              "      <td>62.0</td>\n",
              "      <td>2759</td>\n",
              "      <td>6.27</td>\n",
              "      <td>4.07</td>\n",
              "      <td>5.95</td>\n",
              "      <td>1</td>\n",
              "      <td>2</td>\n",
              "      <td>5</td>\n",
              "    </tr>\n",
              "    <tr>\n",
              "      <th>3</th>\n",
              "      <td>Fair</td>\n",
              "      <td>F</td>\n",
              "      <td>VS2</td>\n",
              "      <td>0.70</td>\n",
              "      <td>64.5</td>\n",
              "      <td>57.0</td>\n",
              "      <td>2762</td>\n",
              "      <td>5.57</td>\n",
              "      <td>3.58</td>\n",
              "      <td>5.53</td>\n",
              "      <td>1</td>\n",
              "      <td>4</td>\n",
              "      <td>5</td>\n",
              "    </tr>\n",
              "    <tr>\n",
              "      <th>4</th>\n",
              "      <td>Fair</td>\n",
              "      <td>F</td>\n",
              "      <td>VS2</td>\n",
              "      <td>0.70</td>\n",
              "      <td>65.3</td>\n",
              "      <td>55.0</td>\n",
              "      <td>2762</td>\n",
              "      <td>5.63</td>\n",
              "      <td>3.66</td>\n",
              "      <td>5.58</td>\n",
              "      <td>1</td>\n",
              "      <td>4</td>\n",
              "      <td>5</td>\n",
              "    </tr>\n",
              "    <tr>\n",
              "      <th>...</th>\n",
              "      <td>...</td>\n",
              "      <td>...</td>\n",
              "      <td>...</td>\n",
              "      <td>...</td>\n",
              "      <td>...</td>\n",
              "      <td>...</td>\n",
              "      <td>...</td>\n",
              "      <td>...</td>\n",
              "      <td>...</td>\n",
              "      <td>...</td>\n",
              "      <td>...</td>\n",
              "      <td>...</td>\n",
              "      <td>...</td>\n",
              "    </tr>\n",
              "    <tr>\n",
              "      <th>53935</th>\n",
              "      <td>Very Good</td>\n",
              "      <td>E</td>\n",
              "      <td>VS2</td>\n",
              "      <td>0.70</td>\n",
              "      <td>62.8</td>\n",
              "      <td>60.0</td>\n",
              "      <td>2755</td>\n",
              "      <td>5.59</td>\n",
              "      <td>3.53</td>\n",
              "      <td>5.65</td>\n",
              "      <td>3</td>\n",
              "      <td>4</td>\n",
              "      <td>6</td>\n",
              "    </tr>\n",
              "    <tr>\n",
              "      <th>53936</th>\n",
              "      <td>Very Good</td>\n",
              "      <td>D</td>\n",
              "      <td>VS1</td>\n",
              "      <td>0.70</td>\n",
              "      <td>63.1</td>\n",
              "      <td>59.0</td>\n",
              "      <td>2755</td>\n",
              "      <td>5.67</td>\n",
              "      <td>3.55</td>\n",
              "      <td>5.58</td>\n",
              "      <td>3</td>\n",
              "      <td>5</td>\n",
              "      <td>7</td>\n",
              "    </tr>\n",
              "    <tr>\n",
              "      <th>53937</th>\n",
              "      <td>Very Good</td>\n",
              "      <td>E</td>\n",
              "      <td>VS2</td>\n",
              "      <td>0.70</td>\n",
              "      <td>60.5</td>\n",
              "      <td>59.0</td>\n",
              "      <td>2757</td>\n",
              "      <td>5.71</td>\n",
              "      <td>3.47</td>\n",
              "      <td>5.76</td>\n",
              "      <td>3</td>\n",
              "      <td>4</td>\n",
              "      <td>6</td>\n",
              "    </tr>\n",
              "    <tr>\n",
              "      <th>53938</th>\n",
              "      <td>Very Good</td>\n",
              "      <td>E</td>\n",
              "      <td>VS2</td>\n",
              "      <td>0.70</td>\n",
              "      <td>61.2</td>\n",
              "      <td>59.0</td>\n",
              "      <td>2757</td>\n",
              "      <td>5.69</td>\n",
              "      <td>3.49</td>\n",
              "      <td>5.72</td>\n",
              "      <td>3</td>\n",
              "      <td>4</td>\n",
              "      <td>6</td>\n",
              "    </tr>\n",
              "    <tr>\n",
              "      <th>53939</th>\n",
              "      <td>Very Good</td>\n",
              "      <td>D</td>\n",
              "      <td>SI1</td>\n",
              "      <td>0.70</td>\n",
              "      <td>62.8</td>\n",
              "      <td>60.0</td>\n",
              "      <td>2757</td>\n",
              "      <td>5.66</td>\n",
              "      <td>3.56</td>\n",
              "      <td>5.68</td>\n",
              "      <td>3</td>\n",
              "      <td>3</td>\n",
              "      <td>7</td>\n",
              "    </tr>\n",
              "  </tbody>\n",
              "</table>\n",
              "<p>48008 rows × 13 columns</p>\n",
              "</div>\n",
              "    <div class=\"colab-df-buttons\">\n",
              "\n",
              "  <div class=\"colab-df-container\">\n",
              "    <button class=\"colab-df-convert\" onclick=\"convertToInteractive('df-2b5b260b-2329-4182-bd50-8eb180a97f80')\"\n",
              "            title=\"Convert this dataframe to an interactive table.\"\n",
              "            style=\"display:none;\">\n",
              "\n",
              "  <svg xmlns=\"http://www.w3.org/2000/svg\" height=\"24px\" viewBox=\"0 -960 960 960\">\n",
              "    <path d=\"M120-120v-720h720v720H120Zm60-500h600v-160H180v160Zm220 220h160v-160H400v160Zm0 220h160v-160H400v160ZM180-400h160v-160H180v160Zm440 0h160v-160H620v160ZM180-180h160v-160H180v160Zm440 0h160v-160H620v160Z\"/>\n",
              "  </svg>\n",
              "    </button>\n",
              "\n",
              "  <style>\n",
              "    .colab-df-container {\n",
              "      display:flex;\n",
              "      gap: 12px;\n",
              "    }\n",
              "\n",
              "    .colab-df-convert {\n",
              "      background-color: #E8F0FE;\n",
              "      border: none;\n",
              "      border-radius: 50%;\n",
              "      cursor: pointer;\n",
              "      display: none;\n",
              "      fill: #1967D2;\n",
              "      height: 32px;\n",
              "      padding: 0 0 0 0;\n",
              "      width: 32px;\n",
              "    }\n",
              "\n",
              "    .colab-df-convert:hover {\n",
              "      background-color: #E2EBFA;\n",
              "      box-shadow: 0px 1px 2px rgba(60, 64, 67, 0.3), 0px 1px 3px 1px rgba(60, 64, 67, 0.15);\n",
              "      fill: #174EA6;\n",
              "    }\n",
              "\n",
              "    .colab-df-buttons div {\n",
              "      margin-bottom: 4px;\n",
              "    }\n",
              "\n",
              "    [theme=dark] .colab-df-convert {\n",
              "      background-color: #3B4455;\n",
              "      fill: #D2E3FC;\n",
              "    }\n",
              "\n",
              "    [theme=dark] .colab-df-convert:hover {\n",
              "      background-color: #434B5C;\n",
              "      box-shadow: 0px 1px 3px 1px rgba(0, 0, 0, 0.15);\n",
              "      filter: drop-shadow(0px 1px 2px rgba(0, 0, 0, 0.3));\n",
              "      fill: #FFFFFF;\n",
              "    }\n",
              "  </style>\n",
              "\n",
              "    <script>\n",
              "      const buttonEl =\n",
              "        document.querySelector('#df-2b5b260b-2329-4182-bd50-8eb180a97f80 button.colab-df-convert');\n",
              "      buttonEl.style.display =\n",
              "        google.colab.kernel.accessAllowed ? 'block' : 'none';\n",
              "\n",
              "      async function convertToInteractive(key) {\n",
              "        const element = document.querySelector('#df-2b5b260b-2329-4182-bd50-8eb180a97f80');\n",
              "        const dataTable =\n",
              "          await google.colab.kernel.invokeFunction('convertToInteractive',\n",
              "                                                    [key], {});\n",
              "        if (!dataTable) return;\n",
              "\n",
              "        const docLinkHtml = 'Like what you see? Visit the ' +\n",
              "          '<a target=\"_blank\" href=https://colab.research.google.com/notebooks/data_table.ipynb>data table notebook</a>'\n",
              "          + ' to learn more about interactive tables.';\n",
              "        element.innerHTML = '';\n",
              "        dataTable['output_type'] = 'display_data';\n",
              "        await google.colab.output.renderOutput(dataTable, element);\n",
              "        const docLink = document.createElement('div');\n",
              "        docLink.innerHTML = docLinkHtml;\n",
              "        element.appendChild(docLink);\n",
              "      }\n",
              "    </script>\n",
              "  </div>\n",
              "\n",
              "\n",
              "<div id=\"df-10d2b03f-eeb6-43ec-8669-fc39a7ce0df3\">\n",
              "  <button class=\"colab-df-quickchart\" onclick=\"quickchart('df-10d2b03f-eeb6-43ec-8669-fc39a7ce0df3')\"\n",
              "            title=\"Suggest charts\"\n",
              "            style=\"display:none;\">\n",
              "\n",
              "<svg xmlns=\"http://www.w3.org/2000/svg\" height=\"24px\"viewBox=\"0 0 24 24\"\n",
              "     width=\"24px\">\n",
              "    <g>\n",
              "        <path d=\"M19 3H5c-1.1 0-2 .9-2 2v14c0 1.1.9 2 2 2h14c1.1 0 2-.9 2-2V5c0-1.1-.9-2-2-2zM9 17H7v-7h2v7zm4 0h-2V7h2v10zm4 0h-2v-4h2v4z\"/>\n",
              "    </g>\n",
              "</svg>\n",
              "  </button>\n",
              "\n",
              "<style>\n",
              "  .colab-df-quickchart {\n",
              "      --bg-color: #E8F0FE;\n",
              "      --fill-color: #1967D2;\n",
              "      --hover-bg-color: #E2EBFA;\n",
              "      --hover-fill-color: #174EA6;\n",
              "      --disabled-fill-color: #AAA;\n",
              "      --disabled-bg-color: #DDD;\n",
              "  }\n",
              "\n",
              "  [theme=dark] .colab-df-quickchart {\n",
              "      --bg-color: #3B4455;\n",
              "      --fill-color: #D2E3FC;\n",
              "      --hover-bg-color: #434B5C;\n",
              "      --hover-fill-color: #FFFFFF;\n",
              "      --disabled-bg-color: #3B4455;\n",
              "      --disabled-fill-color: #666;\n",
              "  }\n",
              "\n",
              "  .colab-df-quickchart {\n",
              "    background-color: var(--bg-color);\n",
              "    border: none;\n",
              "    border-radius: 50%;\n",
              "    cursor: pointer;\n",
              "    display: none;\n",
              "    fill: var(--fill-color);\n",
              "    height: 32px;\n",
              "    padding: 0;\n",
              "    width: 32px;\n",
              "  }\n",
              "\n",
              "  .colab-df-quickchart:hover {\n",
              "    background-color: var(--hover-bg-color);\n",
              "    box-shadow: 0 1px 2px rgba(60, 64, 67, 0.3), 0 1px 3px 1px rgba(60, 64, 67, 0.15);\n",
              "    fill: var(--button-hover-fill-color);\n",
              "  }\n",
              "\n",
              "  .colab-df-quickchart-complete:disabled,\n",
              "  .colab-df-quickchart-complete:disabled:hover {\n",
              "    background-color: var(--disabled-bg-color);\n",
              "    fill: var(--disabled-fill-color);\n",
              "    box-shadow: none;\n",
              "  }\n",
              "\n",
              "  .colab-df-spinner {\n",
              "    border: 2px solid var(--fill-color);\n",
              "    border-color: transparent;\n",
              "    border-bottom-color: var(--fill-color);\n",
              "    animation:\n",
              "      spin 1s steps(1) infinite;\n",
              "  }\n",
              "\n",
              "  @keyframes spin {\n",
              "    0% {\n",
              "      border-color: transparent;\n",
              "      border-bottom-color: var(--fill-color);\n",
              "      border-left-color: var(--fill-color);\n",
              "    }\n",
              "    20% {\n",
              "      border-color: transparent;\n",
              "      border-left-color: var(--fill-color);\n",
              "      border-top-color: var(--fill-color);\n",
              "    }\n",
              "    30% {\n",
              "      border-color: transparent;\n",
              "      border-left-color: var(--fill-color);\n",
              "      border-top-color: var(--fill-color);\n",
              "      border-right-color: var(--fill-color);\n",
              "    }\n",
              "    40% {\n",
              "      border-color: transparent;\n",
              "      border-right-color: var(--fill-color);\n",
              "      border-top-color: var(--fill-color);\n",
              "    }\n",
              "    60% {\n",
              "      border-color: transparent;\n",
              "      border-right-color: var(--fill-color);\n",
              "    }\n",
              "    80% {\n",
              "      border-color: transparent;\n",
              "      border-right-color: var(--fill-color);\n",
              "      border-bottom-color: var(--fill-color);\n",
              "    }\n",
              "    90% {\n",
              "      border-color: transparent;\n",
              "      border-bottom-color: var(--fill-color);\n",
              "    }\n",
              "  }\n",
              "</style>\n",
              "\n",
              "  <script>\n",
              "    async function quickchart(key) {\n",
              "      const quickchartButtonEl =\n",
              "        document.querySelector('#' + key + ' button');\n",
              "      quickchartButtonEl.disabled = true;  // To prevent multiple clicks.\n",
              "      quickchartButtonEl.classList.add('colab-df-spinner');\n",
              "      try {\n",
              "        const charts = await google.colab.kernel.invokeFunction(\n",
              "            'suggestCharts', [key], {});\n",
              "      } catch (error) {\n",
              "        console.error('Error during call to suggestCharts:', error);\n",
              "      }\n",
              "      quickchartButtonEl.classList.remove('colab-df-spinner');\n",
              "      quickchartButtonEl.classList.add('colab-df-quickchart-complete');\n",
              "    }\n",
              "    (() => {\n",
              "      let quickchartButtonEl =\n",
              "        document.querySelector('#df-10d2b03f-eeb6-43ec-8669-fc39a7ce0df3 button');\n",
              "      quickchartButtonEl.style.display =\n",
              "        google.colab.kernel.accessAllowed ? 'block' : 'none';\n",
              "    })();\n",
              "  </script>\n",
              "</div>\n",
              "    </div>\n",
              "  </div>\n"
            ],
            "application/vnd.google.colaboratory.intrinsic+json": {
              "type": "dataframe",
              "variable_name": "clear_df",
              "summary": "{\n  \"name\": \"clear_df\",\n  \"rows\": 48008,\n  \"fields\": [\n    {\n      \"column\": \"cut\",\n      \"properties\": {\n        \"dtype\": \"category\",\n        \"num_unique_values\": 5,\n        \"samples\": [\n          \"Good\",\n          \"Very Good\",\n          \"Ideal\"\n        ],\n        \"semantic_type\": \"\",\n        \"description\": \"\"\n      }\n    },\n    {\n      \"column\": \"color\",\n      \"properties\": {\n        \"dtype\": \"category\",\n        \"num_unique_values\": 7,\n        \"samples\": [\n          \"E\",\n          \"F\",\n          \"I\"\n        ],\n        \"semantic_type\": \"\",\n        \"description\": \"\"\n      }\n    },\n    {\n      \"column\": \"clarity\",\n      \"properties\": {\n        \"dtype\": \"category\",\n        \"num_unique_values\": 8,\n        \"samples\": [\n          \"SI2\",\n          \"VS1\",\n          \"VS2\"\n        ],\n        \"semantic_type\": \"\",\n        \"description\": \"\"\n      }\n    },\n    {\n      \"column\": \"carat\",\n      \"properties\": {\n        \"dtype\": \"number\",\n        \"std\": 0.3476598966163343,\n        \"min\": 0.2,\n        \"max\": 3.01,\n        \"num_unique_values\": 206,\n        \"samples\": [\n          0.99,\n          0.76,\n          2.33\n        ],\n        \"semantic_type\": \"\",\n        \"description\": \"\"\n      }\n    },\n    {\n      \"column\": \"depth\",\n      \"properties\": {\n        \"dtype\": \"number\",\n        \"std\": 1.4319451183033507,\n        \"min\": 43.0,\n        \"max\": 79.0,\n        \"num_unique_values\": 184,\n        \"samples\": [\n          65.0,\n          66.0,\n          58.4\n        ],\n        \"semantic_type\": \"\",\n        \"description\": \"\"\n      }\n    },\n    {\n      \"column\": \"table\",\n      \"properties\": {\n        \"dtype\": \"number\",\n        \"std\": 2.2326585131475096,\n        \"min\": 43.0,\n        \"max\": 79.0,\n        \"num_unique_values\": 125,\n        \"samples\": [\n          57.2,\n          60.5,\n          55.5\n        ],\n        \"semantic_type\": \"\",\n        \"description\": \"\"\n      }\n    },\n    {\n      \"column\": \"price\",\n      \"properties\": {\n        \"dtype\": \"number\",\n        \"std\": 2271,\n        \"min\": 326,\n        \"max\": 9314,\n        \"num_unique_values\": 7717,\n        \"samples\": [\n          6798,\n          5729,\n          5207\n        ],\n        \"semantic_type\": \"\",\n        \"description\": \"\"\n      }\n    },\n    {\n      \"column\": \"x (Premium)\",\n      \"properties\": {\n        \"dtype\": \"number\",\n        \"std\": 0.9373909616655842,\n        \"min\": 0.0,\n        \"max\": 9.23,\n        \"num_unique_values\": 461,\n        \"samples\": [\n          7.58,\n          6.06,\n          6.17\n        ],\n        \"semantic_type\": \"\",\n        \"description\": \"\"\n      }\n    },\n    {\n      \"column\": \"z (Very Good)\",\n      \"properties\": {\n        \"dtype\": \"number\",\n        \"std\": 0.5975093959511614,\n        \"min\": 0.0,\n        \"max\": 31.8,\n        \"num_unique_values\": 322,\n        \"samples\": [\n          4.37,\n          2.75,\n          3.21\n        ],\n        \"semantic_type\": \"\",\n        \"description\": \"\"\n      }\n    },\n    {\n      \"column\": \"y (Good)\",\n      \"properties\": {\n        \"dtype\": \"number\",\n        \"std\": 0.9373119673452306,\n        \"min\": 0.0,\n        \"max\": 31.8,\n        \"num_unique_values\": 457,\n        \"samples\": [\n          5.31,\n          5.96,\n          5.64\n        ],\n        \"semantic_type\": \"\",\n        \"description\": \"\"\n      }\n    },\n    {\n      \"column\": \"cut_encoded\",\n      \"properties\": {\n        \"dtype\": \"number\",\n        \"std\": 1,\n        \"min\": 1,\n        \"max\": 5,\n        \"num_unique_values\": 5,\n        \"samples\": [\n          2,\n          3,\n          5\n        ],\n        \"semantic_type\": \"\",\n        \"description\": \"\"\n      }\n    },\n    {\n      \"column\": \"clarity_encoded\",\n      \"properties\": {\n        \"dtype\": \"number\",\n        \"std\": 1,\n        \"min\": 1,\n        \"max\": 8,\n        \"num_unique_values\": 8,\n        \"samples\": [\n          2,\n          5,\n          4\n        ],\n        \"semantic_type\": \"\",\n        \"description\": \"\"\n      }\n    },\n    {\n      \"column\": \"color_encoded\",\n      \"properties\": {\n        \"dtype\": \"number\",\n        \"std\": 1,\n        \"min\": 1,\n        \"max\": 7,\n        \"num_unique_values\": 7,\n        \"samples\": [\n          6,\n          5,\n          2\n        ],\n        \"semantic_type\": \"\",\n        \"description\": \"\"\n      }\n    }\n  ]\n}"
            }
          },
          "metadata": {},
          "execution_count": 200
        }
      ]
    },
    {
      "cell_type": "code",
      "source": [
        "x=clear_df[['carat','cut_encoded','color_encoded','clarity_encoded','depth','table']]"
      ],
      "metadata": {
        "id": "FHtSUNVH8uLQ"
      },
      "execution_count": null,
      "outputs": []
    },
    {
      "cell_type": "markdown",
      "source": [
        "признаки x, y, z не включаем в модель, так как видно, что они коррелируют с carat."
      ],
      "metadata": {
        "id": "V2TP6W_5UW1g"
      }
    },
    {
      "cell_type": "code",
      "source": [
        "y=clear_df[['price']]"
      ],
      "metadata": {
        "id": "lzjHwjnhUAG0"
      },
      "execution_count": null,
      "outputs": []
    },
    {
      "cell_type": "code",
      "source": [
        "model2=lr.fit(x,y)"
      ],
      "metadata": {
        "id": "DzkdzzJsUTyE"
      },
      "execution_count": null,
      "outputs": []
    },
    {
      "cell_type": "markdown",
      "source": [
        "Можно предсказать цену для какого-нибудь алмаза"
      ],
      "metadata": {
        "id": "6im0P1IBYzC_"
      }
    },
    {
      "cell_type": "code",
      "source": [
        "diamond=[[3.0, 4, 6, 7, 60.0, 55.0]]\n",
        "diamond_price=model2.predict(diamond)\n",
        "diamond_price"
      ],
      "metadata": {
        "colab": {
          "base_uri": "https://localhost:8080/"
        },
        "id": "nZgIMp1fY5kx",
        "outputId": "dbe6516c-1c95-4cb7-f8eb-d4e5e29a1548"
      },
      "execution_count": null,
      "outputs": [
        {
          "output_type": "stream",
          "name": "stderr",
          "text": [
            "/usr/local/lib/python3.11/dist-packages/sklearn/utils/validation.py:2739: UserWarning: X does not have valid feature names, but LinearRegression was fitted with feature names\n",
            "  warnings.warn(\n"
          ]
        },
        {
          "output_type": "execute_result",
          "data": {
            "text/plain": [
              "array([[20105.75933394]])"
            ]
          },
          "metadata": {},
          "execution_count": 204
        }
      ]
    },
    {
      "cell_type": "code",
      "source": [
        "res_model2=smf.ols('price ~ carat + cut_encoded + color_encoded + clarity_encoded + depth + table ', data=clear_df).fit()\n",
        "res_model2.summary()"
      ],
      "metadata": {
        "colab": {
          "base_uri": "https://localhost:8080/",
          "height": 588
        },
        "id": "ScNBcf2TYkZ9",
        "outputId": "b0bb2371-a3a7-41af-e3fb-662393e4c5c5"
      },
      "execution_count": null,
      "outputs": [
        {
          "output_type": "execute_result",
          "data": {
            "text/plain": [
              "<class 'statsmodels.iolib.summary.Summary'>\n",
              "\"\"\"\n",
              "                            OLS Regression Results                            \n",
              "==============================================================================\n",
              "Dep. Variable:                  price   R-squared:                       0.905\n",
              "Model:                            OLS   Adj. R-squared:                  0.905\n",
              "Method:                 Least Squares   F-statistic:                 7.639e+04\n",
              "Date:                Fri, 07 Feb 2025   Prob (F-statistic):               0.00\n",
              "Time:                        22:02:37   Log-Likelihood:            -3.8257e+05\n",
              "No. Observations:               48008   AIC:                         7.652e+05\n",
              "Df Residuals:                   48001   BIC:                         7.652e+05\n",
              "Df Model:                           6                                         \n",
              "Covariance Type:            nonrobust                                         \n",
              "===================================================================================\n",
              "                      coef    std err          t      P>|t|      [0.025      0.975]\n",
              "-----------------------------------------------------------------------------------\n",
              "Intercept       -2392.9992    233.029    -10.269      0.000   -2849.738   -1936.260\n",
              "carat            6937.4288     10.756    644.996      0.000    6916.347    6958.510\n",
              "cut_encoded        78.4346      3.468     22.614      0.000      71.636      85.233\n",
              "color_encoded     185.5634      1.993     93.089      0.000     181.656     189.470\n",
              "clarity_encoded   309.2314      2.191    141.123      0.000     304.937     313.526\n",
              "depth             -21.7742      2.567     -8.481      0.000     -26.806     -16.742\n",
              "table             -10.8876      1.796     -6.064      0.000     -14.407      -7.368\n",
              "==============================================================================\n",
              "Omnibus:                     8206.453   Durbin-Watson:                   0.966\n",
              "Prob(Omnibus):                  0.000   Jarque-Bera (JB):           175427.818\n",
              "Skew:                           0.151   Prob(JB):                         0.00\n",
              "Kurtosis:                      12.360   Cond. No.                     6.18e+03\n",
              "==============================================================================\n",
              "\n",
              "Notes:\n",
              "[1] Standard Errors assume that the covariance matrix of the errors is correctly specified.\n",
              "[2] The condition number is large, 6.18e+03. This might indicate that there are\n",
              "strong multicollinearity or other numerical problems.\n",
              "\"\"\""
            ],
            "text/html": [
              "<table class=\"simpletable\">\n",
              "<caption>OLS Regression Results</caption>\n",
              "<tr>\n",
              "  <th>Dep. Variable:</th>          <td>price</td>      <th>  R-squared:         </th>  <td>   0.905</td>  \n",
              "</tr>\n",
              "<tr>\n",
              "  <th>Model:</th>                   <td>OLS</td>       <th>  Adj. R-squared:    </th>  <td>   0.905</td>  \n",
              "</tr>\n",
              "<tr>\n",
              "  <th>Method:</th>             <td>Least Squares</td>  <th>  F-statistic:       </th>  <td>7.639e+04</td> \n",
              "</tr>\n",
              "<tr>\n",
              "  <th>Date:</th>             <td>Fri, 07 Feb 2025</td> <th>  Prob (F-statistic):</th>   <td>  0.00</td>   \n",
              "</tr>\n",
              "<tr>\n",
              "  <th>Time:</th>                 <td>22:02:37</td>     <th>  Log-Likelihood:    </th> <td>-3.8257e+05</td>\n",
              "</tr>\n",
              "<tr>\n",
              "  <th>No. Observations:</th>      <td> 48008</td>      <th>  AIC:               </th>  <td>7.652e+05</td> \n",
              "</tr>\n",
              "<tr>\n",
              "  <th>Df Residuals:</th>          <td> 48001</td>      <th>  BIC:               </th>  <td>7.652e+05</td> \n",
              "</tr>\n",
              "<tr>\n",
              "  <th>Df Model:</th>              <td>     6</td>      <th>                     </th>      <td> </td>     \n",
              "</tr>\n",
              "<tr>\n",
              "  <th>Covariance Type:</th>      <td>nonrobust</td>    <th>                     </th>      <td> </td>     \n",
              "</tr>\n",
              "</table>\n",
              "<table class=\"simpletable\">\n",
              "<tr>\n",
              "         <td></td>            <th>coef</th>     <th>std err</th>      <th>t</th>      <th>P>|t|</th>  <th>[0.025</th>    <th>0.975]</th>  \n",
              "</tr>\n",
              "<tr>\n",
              "  <th>Intercept</th>       <td>-2392.9992</td> <td>  233.029</td> <td>  -10.269</td> <td> 0.000</td> <td>-2849.738</td> <td>-1936.260</td>\n",
              "</tr>\n",
              "<tr>\n",
              "  <th>carat</th>           <td> 6937.4288</td> <td>   10.756</td> <td>  644.996</td> <td> 0.000</td> <td> 6916.347</td> <td> 6958.510</td>\n",
              "</tr>\n",
              "<tr>\n",
              "  <th>cut_encoded</th>     <td>   78.4346</td> <td>    3.468</td> <td>   22.614</td> <td> 0.000</td> <td>   71.636</td> <td>   85.233</td>\n",
              "</tr>\n",
              "<tr>\n",
              "  <th>color_encoded</th>   <td>  185.5634</td> <td>    1.993</td> <td>   93.089</td> <td> 0.000</td> <td>  181.656</td> <td>  189.470</td>\n",
              "</tr>\n",
              "<tr>\n",
              "  <th>clarity_encoded</th> <td>  309.2314</td> <td>    2.191</td> <td>  141.123</td> <td> 0.000</td> <td>  304.937</td> <td>  313.526</td>\n",
              "</tr>\n",
              "<tr>\n",
              "  <th>depth</th>           <td>  -21.7742</td> <td>    2.567</td> <td>   -8.481</td> <td> 0.000</td> <td>  -26.806</td> <td>  -16.742</td>\n",
              "</tr>\n",
              "<tr>\n",
              "  <th>table</th>           <td>  -10.8876</td> <td>    1.796</td> <td>   -6.064</td> <td> 0.000</td> <td>  -14.407</td> <td>   -7.368</td>\n",
              "</tr>\n",
              "</table>\n",
              "<table class=\"simpletable\">\n",
              "<tr>\n",
              "  <th>Omnibus:</th>       <td>8206.453</td> <th>  Durbin-Watson:     </th>  <td>   0.966</td> \n",
              "</tr>\n",
              "<tr>\n",
              "  <th>Prob(Omnibus):</th>  <td> 0.000</td>  <th>  Jarque-Bera (JB):  </th> <td>175427.818</td>\n",
              "</tr>\n",
              "<tr>\n",
              "  <th>Skew:</th>           <td> 0.151</td>  <th>  Prob(JB):          </th>  <td>    0.00</td> \n",
              "</tr>\n",
              "<tr>\n",
              "  <th>Kurtosis:</th>       <td>12.360</td>  <th>  Cond. No.          </th>  <td>6.18e+03</td> \n",
              "</tr>\n",
              "</table><br/><br/>Notes:<br/>[1] Standard Errors assume that the covariance matrix of the errors is correctly specified.<br/>[2] The condition number is large, 6.18e+03. This might indicate that there are<br/>strong multicollinearity or other numerical problems."
            ],
            "text/latex": "\\begin{center}\n\\begin{tabular}{lclc}\n\\toprule\n\\textbf{Dep. Variable:}    &      price       & \\textbf{  R-squared:         } &      0.905   \\\\\n\\textbf{Model:}            &       OLS        & \\textbf{  Adj. R-squared:    } &      0.905   \\\\\n\\textbf{Method:}           &  Least Squares   & \\textbf{  F-statistic:       } &  7.639e+04   \\\\\n\\textbf{Date:}             & Fri, 07 Feb 2025 & \\textbf{  Prob (F-statistic):} &      0.00    \\\\\n\\textbf{Time:}             &     22:02:37     & \\textbf{  Log-Likelihood:    } & -3.8257e+05  \\\\\n\\textbf{No. Observations:} &       48008      & \\textbf{  AIC:               } &  7.652e+05   \\\\\n\\textbf{Df Residuals:}     &       48001      & \\textbf{  BIC:               } &  7.652e+05   \\\\\n\\textbf{Df Model:}         &           6      & \\textbf{                     } &              \\\\\n\\textbf{Covariance Type:}  &    nonrobust     & \\textbf{                     } &              \\\\\n\\bottomrule\n\\end{tabular}\n\\begin{tabular}{lcccccc}\n                          & \\textbf{coef} & \\textbf{std err} & \\textbf{t} & \\textbf{P$> |$t$|$} & \\textbf{[0.025} & \\textbf{0.975]}  \\\\\n\\midrule\n\\textbf{Intercept}        &   -2392.9992  &      233.029     &   -10.269  &         0.000        &    -2849.738    &    -1936.260     \\\\\n\\textbf{carat}            &    6937.4288  &       10.756     &   644.996  &         0.000        &     6916.347    &     6958.510     \\\\\n\\textbf{cut\\_encoded}     &      78.4346  &        3.468     &    22.614  &         0.000        &       71.636    &       85.233     \\\\\n\\textbf{color\\_encoded}   &     185.5634  &        1.993     &    93.089  &         0.000        &      181.656    &      189.470     \\\\\n\\textbf{clarity\\_encoded} &     309.2314  &        2.191     &   141.123  &         0.000        &      304.937    &      313.526     \\\\\n\\textbf{depth}            &     -21.7742  &        2.567     &    -8.481  &         0.000        &      -26.806    &      -16.742     \\\\\n\\textbf{table}            &     -10.8876  &        1.796     &    -6.064  &         0.000        &      -14.407    &       -7.368     \\\\\n\\bottomrule\n\\end{tabular}\n\\begin{tabular}{lclc}\n\\textbf{Omnibus:}       & 8206.453 & \\textbf{  Durbin-Watson:     } &     0.966   \\\\\n\\textbf{Prob(Omnibus):} &   0.000  & \\textbf{  Jarque-Bera (JB):  } & 175427.818  \\\\\n\\textbf{Skew:}          &   0.151  & \\textbf{  Prob(JB):          } &      0.00   \\\\\n\\textbf{Kurtosis:}      &  12.360  & \\textbf{  Cond. No.          } &  6.18e+03   \\\\\n\\bottomrule\n\\end{tabular}\n%\\caption{OLS Regression Results}\n\\end{center}\n\nNotes: \\newline\n [1] Standard Errors assume that the covariance matrix of the errors is correctly specified. \\newline\n [2] The condition number is large, 6.18e+03. This might indicate that there are \\newline\n strong multicollinearity or other numerical problems."
          },
          "metadata": {},
          "execution_count": 209
        }
      ]
    },
    {
      "cell_type": "markdown",
      "source": [
        "Мы можем видеть что некоторые признаки коллинеарны, попробуем убрать некоторые"
      ],
      "metadata": {
        "id": "qMydEgwycHm6"
      }
    },
    {
      "cell_type": "code",
      "source": [
        "res_model2=smf.ols('price ~ carat + cut_encoded + color_encoded + clarity_encoded', data=clear_df).fit()\n",
        "res_model2.summary()"
      ],
      "metadata": {
        "colab": {
          "base_uri": "https://localhost:8080/",
          "height": 511
        },
        "id": "dt0c-76DcRBN",
        "outputId": "f7d33eaf-2e7d-4375-8969-4cffb0a94909"
      },
      "execution_count": null,
      "outputs": [
        {
          "output_type": "execute_result",
          "data": {
            "text/plain": [
              "<class 'statsmodels.iolib.summary.Summary'>\n",
              "\"\"\"\n",
              "                            OLS Regression Results                            \n",
              "==============================================================================\n",
              "Dep. Variable:                  price   R-squared:                       0.905\n",
              "Model:                            OLS   Adj. R-squared:                  0.905\n",
              "Method:                 Least Squares   F-statistic:                 1.144e+05\n",
              "Date:                Fri, 07 Feb 2025   Prob (F-statistic):               0.00\n",
              "Time:                        22:07:11   Log-Likelihood:            -3.8261e+05\n",
              "No. Observations:               48008   AIC:                         7.652e+05\n",
              "Df Residuals:                   48003   BIC:                         7.653e+05\n",
              "Df Model:                           4                                         \n",
              "Covariance Type:            nonrobust                                         \n",
              "===================================================================================\n",
              "                      coef    std err          t      P>|t|      [0.025      0.975]\n",
              "-----------------------------------------------------------------------------------\n",
              "Intercept       -4424.6256     21.690   -203.996      0.000   -4467.138   -4382.113\n",
              "carat            6930.8488     10.701    647.703      0.000    6909.875    6951.822\n",
              "cut_encoded        93.3395      2.910     32.080      0.000      87.637      99.042\n",
              "color_encoded     186.2681      1.992     93.495      0.000     182.363     190.173\n",
              "clarity_encoded   310.4506      2.188    141.883      0.000     306.162     314.739\n",
              "==============================================================================\n",
              "Omnibus:                     8216.779   Durbin-Watson:                   0.964\n",
              "Prob(Omnibus):                  0.000   Jarque-Bera (JB):           177249.778\n",
              "Skew:                           0.144   Prob(JB):                         0.00\n",
              "Kurtosis:                      12.409   Cond. No.                         54.2\n",
              "==============================================================================\n",
              "\n",
              "Notes:\n",
              "[1] Standard Errors assume that the covariance matrix of the errors is correctly specified.\n",
              "\"\"\""
            ],
            "text/html": [
              "<table class=\"simpletable\">\n",
              "<caption>OLS Regression Results</caption>\n",
              "<tr>\n",
              "  <th>Dep. Variable:</th>          <td>price</td>      <th>  R-squared:         </th>  <td>   0.905</td>  \n",
              "</tr>\n",
              "<tr>\n",
              "  <th>Model:</th>                   <td>OLS</td>       <th>  Adj. R-squared:    </th>  <td>   0.905</td>  \n",
              "</tr>\n",
              "<tr>\n",
              "  <th>Method:</th>             <td>Least Squares</td>  <th>  F-statistic:       </th>  <td>1.144e+05</td> \n",
              "</tr>\n",
              "<tr>\n",
              "  <th>Date:</th>             <td>Fri, 07 Feb 2025</td> <th>  Prob (F-statistic):</th>   <td>  0.00</td>   \n",
              "</tr>\n",
              "<tr>\n",
              "  <th>Time:</th>                 <td>22:07:11</td>     <th>  Log-Likelihood:    </th> <td>-3.8261e+05</td>\n",
              "</tr>\n",
              "<tr>\n",
              "  <th>No. Observations:</th>      <td> 48008</td>      <th>  AIC:               </th>  <td>7.652e+05</td> \n",
              "</tr>\n",
              "<tr>\n",
              "  <th>Df Residuals:</th>          <td> 48003</td>      <th>  BIC:               </th>  <td>7.653e+05</td> \n",
              "</tr>\n",
              "<tr>\n",
              "  <th>Df Model:</th>              <td>     4</td>      <th>                     </th>      <td> </td>     \n",
              "</tr>\n",
              "<tr>\n",
              "  <th>Covariance Type:</th>      <td>nonrobust</td>    <th>                     </th>      <td> </td>     \n",
              "</tr>\n",
              "</table>\n",
              "<table class=\"simpletable\">\n",
              "<tr>\n",
              "         <td></td>            <th>coef</th>     <th>std err</th>      <th>t</th>      <th>P>|t|</th>  <th>[0.025</th>    <th>0.975]</th>  \n",
              "</tr>\n",
              "<tr>\n",
              "  <th>Intercept</th>       <td>-4424.6256</td> <td>   21.690</td> <td> -203.996</td> <td> 0.000</td> <td>-4467.138</td> <td>-4382.113</td>\n",
              "</tr>\n",
              "<tr>\n",
              "  <th>carat</th>           <td> 6930.8488</td> <td>   10.701</td> <td>  647.703</td> <td> 0.000</td> <td> 6909.875</td> <td> 6951.822</td>\n",
              "</tr>\n",
              "<tr>\n",
              "  <th>cut_encoded</th>     <td>   93.3395</td> <td>    2.910</td> <td>   32.080</td> <td> 0.000</td> <td>   87.637</td> <td>   99.042</td>\n",
              "</tr>\n",
              "<tr>\n",
              "  <th>color_encoded</th>   <td>  186.2681</td> <td>    1.992</td> <td>   93.495</td> <td> 0.000</td> <td>  182.363</td> <td>  190.173</td>\n",
              "</tr>\n",
              "<tr>\n",
              "  <th>clarity_encoded</th> <td>  310.4506</td> <td>    2.188</td> <td>  141.883</td> <td> 0.000</td> <td>  306.162</td> <td>  314.739</td>\n",
              "</tr>\n",
              "</table>\n",
              "<table class=\"simpletable\">\n",
              "<tr>\n",
              "  <th>Omnibus:</th>       <td>8216.779</td> <th>  Durbin-Watson:     </th>  <td>   0.964</td> \n",
              "</tr>\n",
              "<tr>\n",
              "  <th>Prob(Omnibus):</th>  <td> 0.000</td>  <th>  Jarque-Bera (JB):  </th> <td>177249.778</td>\n",
              "</tr>\n",
              "<tr>\n",
              "  <th>Skew:</th>           <td> 0.144</td>  <th>  Prob(JB):          </th>  <td>    0.00</td> \n",
              "</tr>\n",
              "<tr>\n",
              "  <th>Kurtosis:</th>       <td>12.409</td>  <th>  Cond. No.          </th>  <td>    54.2</td> \n",
              "</tr>\n",
              "</table><br/><br/>Notes:<br/>[1] Standard Errors assume that the covariance matrix of the errors is correctly specified."
            ],
            "text/latex": "\\begin{center}\n\\begin{tabular}{lclc}\n\\toprule\n\\textbf{Dep. Variable:}    &      price       & \\textbf{  R-squared:         } &      0.905   \\\\\n\\textbf{Model:}            &       OLS        & \\textbf{  Adj. R-squared:    } &      0.905   \\\\\n\\textbf{Method:}           &  Least Squares   & \\textbf{  F-statistic:       } &  1.144e+05   \\\\\n\\textbf{Date:}             & Fri, 07 Feb 2025 & \\textbf{  Prob (F-statistic):} &      0.00    \\\\\n\\textbf{Time:}             &     22:07:11     & \\textbf{  Log-Likelihood:    } & -3.8261e+05  \\\\\n\\textbf{No. Observations:} &       48008      & \\textbf{  AIC:               } &  7.652e+05   \\\\\n\\textbf{Df Residuals:}     &       48003      & \\textbf{  BIC:               } &  7.653e+05   \\\\\n\\textbf{Df Model:}         &           4      & \\textbf{                     } &              \\\\\n\\textbf{Covariance Type:}  &    nonrobust     & \\textbf{                     } &              \\\\\n\\bottomrule\n\\end{tabular}\n\\begin{tabular}{lcccccc}\n                          & \\textbf{coef} & \\textbf{std err} & \\textbf{t} & \\textbf{P$> |$t$|$} & \\textbf{[0.025} & \\textbf{0.975]}  \\\\\n\\midrule\n\\textbf{Intercept}        &   -4424.6256  &       21.690     &  -203.996  &         0.000        &    -4467.138    &    -4382.113     \\\\\n\\textbf{carat}            &    6930.8488  &       10.701     &   647.703  &         0.000        &     6909.875    &     6951.822     \\\\\n\\textbf{cut\\_encoded}     &      93.3395  &        2.910     &    32.080  &         0.000        &       87.637    &       99.042     \\\\\n\\textbf{color\\_encoded}   &     186.2681  &        1.992     &    93.495  &         0.000        &      182.363    &      190.173     \\\\\n\\textbf{clarity\\_encoded} &     310.4506  &        2.188     &   141.883  &         0.000        &      306.162    &      314.739     \\\\\n\\bottomrule\n\\end{tabular}\n\\begin{tabular}{lclc}\n\\textbf{Omnibus:}       & 8216.779 & \\textbf{  Durbin-Watson:     } &     0.964   \\\\\n\\textbf{Prob(Omnibus):} &   0.000  & \\textbf{  Jarque-Bera (JB):  } & 177249.778  \\\\\n\\textbf{Skew:}          &   0.144  & \\textbf{  Prob(JB):          } &      0.00   \\\\\n\\textbf{Kurtosis:}      &  12.409  & \\textbf{  Cond. No.          } &      54.2   \\\\\n\\bottomrule\n\\end{tabular}\n%\\caption{OLS Regression Results}\n\\end{center}\n\nNotes: \\newline\n [1] Standard Errors assume that the covariance matrix of the errors is correctly specified."
          },
          "metadata": {},
          "execution_count": 214
        }
      ]
    },
    {
      "cell_type": "markdown",
      "source": [
        "Модель адекватна, так как коэффициент детерминации стремится к 1 (0.905) и p-value для F-статистики меньше уровня значимости. Также в модели значимы все коэффициенты и свободный член. Остатки немного положительно коррелируют. Данные распределены не нормально."
      ],
      "metadata": {
        "id": "LjQBq1CvdJS2"
      }
    }
  ]
}